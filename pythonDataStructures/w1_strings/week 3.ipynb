{
 "cells": [
  {
   "cell_type": "markdown",
   "metadata": {},
   "source": [
    "# File processing"
   ]
  },
  {
   "cell_type": "code",
   "execution_count": 1,
   "metadata": {
    "collapsed": false
   },
   "outputs": [
    {
     "name": "stdout",
     "output_type": "stream",
     "text": [
      "Hey there!\n"
     ]
    }
   ],
   "source": [
    "print \"Hey there!\""
   ]
  },
  {
   "cell_type": "code",
   "execution_count": 2,
   "metadata": {
    "collapsed": true
   },
   "outputs": [],
   "source": [
    "#handle=open(filename, mode)\n",
    "fhand=open('../mbox.txt','r')"
   ]
  },
  {
   "cell_type": "code",
   "execution_count": 3,
   "metadata": {
    "collapsed": false
   },
   "outputs": [
    {
     "data": {
      "text/plain": [
       "<open file '../mbox.txt', mode 'r' at 0x0000000002F06E40>"
      ]
     },
     "execution_count": 3,
     "metadata": {},
     "output_type": "execute_result"
    }
   ],
   "source": [
    "fhand"
   ]
  },
  {
   "cell_type": "code",
   "execution_count": 4,
   "metadata": {
    "collapsed": true
   },
   "outputs": [],
   "source": [
    "stuff='Hello\\nWorld'"
   ]
  },
  {
   "cell_type": "code",
   "execution_count": 5,
   "metadata": {
    "collapsed": false
   },
   "outputs": [
    {
     "name": "stdout",
     "output_type": "stream",
     "text": [
      "Hello\n",
      "World\n"
     ]
    }
   ],
   "source": [
    "print stuff"
   ]
  },
  {
   "cell_type": "code",
   "execution_count": 6,
   "metadata": {
    "collapsed": true
   },
   "outputs": [],
   "source": [
    "stuff='X\\nY'"
   ]
  },
  {
   "cell_type": "code",
   "execution_count": 7,
   "metadata": {
    "collapsed": false
   },
   "outputs": [
    {
     "name": "stdout",
     "output_type": "stream",
     "text": [
      "X\n",
      "Y 3\n"
     ]
    }
   ],
   "source": [
    "print stuff, len(stuff)"
   ]
  },
  {
   "cell_type": "code",
   "execution_count": 9,
   "metadata": {
    "collapsed": false
   },
   "outputs": [
    {
     "name": "stdout",
     "output_type": "stream",
     "text": [
      "132045\n"
     ]
    }
   ],
   "source": [
    "count =0\n",
    "\n",
    "for line in fhand:\n",
    "    count+=1\n",
    "print count"
   ]
  },
  {
   "cell_type": "code",
   "execution_count": 15,
   "metadata": {
    "collapsed": false
   },
   "outputs": [],
   "source": [
    "fhand=open('../mbox-short.txt')\n",
    "inp = fhand.read()"
   ]
  },
  {
   "cell_type": "code",
   "execution_count": 16,
   "metadata": {
    "collapsed": false
   },
   "outputs": [
    {
     "name": "stdout",
     "output_type": "stream",
     "text": [
      "94626\n"
     ]
    }
   ],
   "source": [
    "print len(inp)"
   ]
  },
  {
   "cell_type": "code",
   "execution_count": 22,
   "metadata": {
    "collapsed": false
   },
   "outputs": [
    {
     "name": "stdout",
     "output_type": "stream",
     "text": [
      "From stephen.marquard@uct.ac.za Sat Jan  5 09:14:16 2008\n",
      "Return-Path: <postmaster@collab.sakaiproject.org>\n",
      "Received: from murder (mail.umich.edu [141.211.14.90])\n",
      "\t by frankenstein.mail.umich.edu (Cyrus v2.3.8) with LMTPA;\n",
      "\t Sat, 05 Jan 2008 09:14:16 -0500\n",
      "X-Sieve: CMU Sieve 2.3\n",
      "Received: from murder ([unix socket])\n",
      "\t by mail.umich.edu (Cyrus v2.2.12) with LMTPA;\n",
      "\t Sat, 05 Jan 2008 09:14:16 -0500\n",
      "Received: from holes.mr.itd.umich.edu (holes.mr.itd.umich.edu [141.211.14.79])\n",
      "\tby flawless.mail.umich.edu () with ESMTP id m05EEFR1013674;\n",
      "\tSat, 5 Jan 2008 09:14:15 -0500\n",
      "Received: FROM paploo.uhi.ac.uk (app1.prod.collab.uhi.ac.uk [194.35.219.184])\n",
      "\tBY holes.mr.itd.umich.edu ID 477F90B0.2DB2F.12494 ; \n",
      "\t 5 Jan 2008 09:14:10 -0500\n",
      "Received: from paploo.uhi.ac.uk (localhost [127.0.0.1])\n",
      "\tby paploo.uhi.ac.uk (Postfix) with ESMTP id 5F919BC2F2;\n",
      "\tSat,  5 Jan 2008 14:10:05 +0000 (GMT)\n",
      "Message-ID: <200801051412.m05ECIaH010327@nakamura.uits.iupui.edu>\n",
      "Mime-Version: 1.0\n",
      "Content-Transfer-Encoding: 7bit\n",
      "Received: from prod.collab.uhi.ac.uk ([194.35.219.182])\n",
      "          by paploo.uhi.ac.uk (JAMES SMTP Server 2.1.3) with SMTP ID 899\n",
      "          for <source@collab.sakaiproject.org>;\n",
      "          Sat, 5 Jan 2008 14:09:50 +0000 (GMT)\n",
      "Received: from nakamura.uits.iupui.edu (nakamura.uits.iupui.edu [134.68.220.122])\n",
      "\tby shmi.uhi.ac.uk (Postfix) with ESMTP id A215243002\n",
      "\tfor <source@collab.sakaiproject.org>; Sat,  5 Jan 2008 14:13:33 +0000 (GMT)\n",
      "Received: from nakamura.uits.iupui.edu (localhost [127.0.0.1])\n",
      "\tby nakamura.uits.iupui.edu (8.12.11.20060308/8.12.11) with ESMTP id m05ECJVp010329\n",
      "\tfor <source@collab.sakaiproject.org>; Sat, 5 Jan 2008 09:12:19 -0500\n",
      "Received: (from apache@localhost)\n",
      "\tby nakamura.uits.iupui.edu (8.12.11.20060308/8.12.11/Submit) id m05ECIaH010327\n",
      "\tfor source@collab.sakaiproject.org; Sat, 5 Jan 2008 09:12:18 -0500\n",
      "Date: Sat, 5 Jan 2008 09:12:18 -0500\n",
      "X-Authentication-Warning: nakamura.uits.iupui.edu: apache set sender to stephen.marquard@uct.ac.za using -f\n",
      "To: source@collab.sa\n"
     ]
    }
   ],
   "source": [
    "print inp[:2000]"
   ]
  },
  {
   "cell_type": "code",
   "execution_count": 75,
   "metadata": {
    "collapsed": false
   },
   "outputs": [
    {
     "name": "stdout",
     "output_type": "stream",
     "text": [
      "       From: stephen.marquard@uct.ac.za\n",
      "\t\t\t\t\t         From: stephen.marquard@uct.ac.za\n",
      "         From: louis@media.berkeley.edu\n",
      "\t\t\t\t\t           From: louis@media.berkeley.edu\n",
      "                  From: zqian@umich.edu\n",
      "\t\t\t\t\t                    From: zqian@umich.edu\n",
      "                 From: rjlowe@iupui.edu\n",
      "\t\t\t\t\t                   From: rjlowe@iupui.edu\n",
      "                  From: zqian@umich.edu\n",
      "\t\t\t\t\t                    From: zqian@umich.edu\n",
      "                 From: rjlowe@iupui.edu\n",
      "\t\t\t\t\t                   From: rjlowe@iupui.edu\n",
      "                   From: cwen@iupui.edu\n",
      "\t\t\t\t\t                     From: cwen@iupui.edu\n",
      "                   From: cwen@iupui.edu\n",
      "\t\t\t\t\t                     From: cwen@iupui.edu\n",
      "                From: gsilver@umich.edu\n",
      "\t\t\t\t\t                  From: gsilver@umich.edu\n",
      "                From: gsilver@umich.edu\n",
      "\t\t\t\t\t                  From: gsilver@umich.edu\n",
      "                  From: zqian@umich.edu\n",
      "\t\t\t\t\t                    From: zqian@umich.edu\n",
      "                From: gsilver@umich.edu\n",
      "\t\t\t\t\t                  From: gsilver@umich.edu\n",
      "               From: wagnermr@iupui.edu\n",
      "\t\t\t\t\t                 From: wagnermr@iupui.edu\n",
      "                  From: zqian@umich.edu\n",
      "\t\t\t\t\t                    From: zqian@umich.edu\n",
      "         From: antranig@caret.cam.ac.uk\n",
      "\t\t\t\t\t           From: antranig@caret.cam.ac.uk\n",
      "    From: gopal.ramasammycook@gmail.com\n",
      "\t\t\t\t\t      From: gopal.ramasammycook@gmail.com\n",
      "          From: david.horwitz@uct.ac.za\n",
      "\t\t\t\t\t            From: david.horwitz@uct.ac.za\n",
      "          From: david.horwitz@uct.ac.za\n",
      "\t\t\t\t\t            From: david.horwitz@uct.ac.za\n",
      "          From: david.horwitz@uct.ac.za\n",
      "\t\t\t\t\t            From: david.horwitz@uct.ac.za\n",
      "          From: david.horwitz@uct.ac.za\n",
      "\t\t\t\t\t            From: david.horwitz@uct.ac.za\n",
      "       From: stephen.marquard@uct.ac.za\n",
      "\t\t\t\t\t         From: stephen.marquard@uct.ac.za\n",
      "         From: louis@media.berkeley.edu\n",
      "\t\t\t\t\t           From: louis@media.berkeley.edu\n",
      "         From: louis@media.berkeley.edu\n",
      "\t\t\t\t\t           From: louis@media.berkeley.edu\n",
      "           From: ray@media.berkeley.edu\n",
      "\t\t\t\t\t             From: ray@media.berkeley.edu\n",
      "                   From: cwen@iupui.edu\n",
      "\t\t\t\t\t                     From: cwen@iupui.edu\n",
      "                   From: cwen@iupui.edu\n",
      "\t\t\t\t\t                     From: cwen@iupui.edu\n",
      "                   From: cwen@iupui.edu\n",
      "\t\t\t\t\t                     From: cwen@iupui.edu\n"
     ]
    }
   ],
   "source": [
    "fhand=open('../mbox-short.txt')\n",
    "lng=[]\n",
    "shrt=[]\n",
    "for line in fhand:\n",
    "    if line.startswith('From:'):\n",
    "        lng.append(line)\n",
    "        shrt.append(line.strip())\n",
    "data=[lng, shrt]\n",
    "        \n",
    "for i in range(len(data[0])):\n",
    "    print \"{: >40}\\t\\t\\t\\t\\t {: >40}\".format(data[0][i], data[1][i])\n",
    "\n",
    "    "
   ]
  },
  {
   "cell_type": "code",
   "execution_count": 76,
   "metadata": {
    "collapsed": false
   },
   "outputs": [
    {
     "name": "stdout",
     "output_type": "stream",
     "text": [
      "[['a', 'b', 'c'], ['aaaaaaaaaa', 'b', 'c'], ['a', 'bbbbbbbbbb', 'c']]\n",
      "                   a                    b                    c\n",
      "          aaaaaaaaaa                    b                    c\n",
      "                   a           bbbbbbbbbb                    c\n"
     ]
    }
   ],
   "source": [
    "table_data = [['a', 'b', 'c'], ['aaaaaaaaaa', 'b', 'c'], ['a', 'bbbbbbbbbb', 'c']]\n",
    "print table_data\n",
    "for row in table_data:\n",
    "    print(\"{: >20} {: >20} {: >20}\".format(*row))"
   ]
  },
  {
   "cell_type": "code",
   "execution_count": 78,
   "metadata": {
    "collapsed": false
   },
   "outputs": [
    {
     "name": "stdout",
     "output_type": "stream",
     "text": [
      "From: stephen.marquard@uct.ac.za\n",
      "From: louis@media.berkeley.edu\n",
      "From: zqian@umich.edu\n",
      "From: rjlowe@iupui.edu\n",
      "From: zqian@umich.edu\n",
      "From: rjlowe@iupui.edu\n",
      "From: cwen@iupui.edu\n",
      "From: cwen@iupui.edu\n",
      "From: gsilver@umich.edu\n",
      "From: gsilver@umich.edu\n",
      "From: zqian@umich.edu\n",
      "From: gsilver@umich.edu\n",
      "From: wagnermr@iupui.edu\n",
      "From: zqian@umich.edu\n",
      "From: antranig@caret.cam.ac.uk\n",
      "From: gopal.ramasammycook@gmail.com\n",
      "From: david.horwitz@uct.ac.za\n",
      "From: david.horwitz@uct.ac.za\n",
      "From: david.horwitz@uct.ac.za\n",
      "From: david.horwitz@uct.ac.za\n",
      "From: stephen.marquard@uct.ac.za\n",
      "From: louis@media.berkeley.edu\n",
      "From: louis@media.berkeley.edu\n",
      "From: ray@media.berkeley.edu\n",
      "From: cwen@iupui.edu\n",
      "From: cwen@iupui.edu\n",
      "From: cwen@iupui.edu\n"
     ]
    }
   ],
   "source": [
    "fhand=open('../mbox-short.txt')\n",
    "for line in fhand:\n",
    "    line=line.rstrip()\n",
    "    if not line.startswith('From:'):\n",
    "        continue\n",
    "    print line"
   ]
  },
  {
   "cell_type": "code",
   "execution_count": 79,
   "metadata": {
    "collapsed": false
   },
   "outputs": [
    {
     "name": "stdout",
     "output_type": "stream",
     "text": [
      "From stephen.marquard@uct.ac.za Sat Jan  5 09:14:16 2008\n",
      "X-Authentication-Warning: nakamura.uits.iupui.edu: apache set sender to stephen.marquard@uct.ac.za using -f\n",
      "From: stephen.marquard@uct.ac.za\n",
      "Author: stephen.marquard@uct.ac.za\n",
      "From david.horwitz@uct.ac.za Fri Jan  4 07:02:32 2008\n",
      "X-Authentication-Warning: nakamura.uits.iupui.edu: apache set sender to david.horwitz@uct.ac.za using -f\n",
      "From: david.horwitz@uct.ac.za\n",
      "Author: david.horwitz@uct.ac.za\n",
      "r39753 | david.horwitz@uct.ac.za | 2008-01-04 13:05:51 +0200 (Fri, 04 Jan 2008) | 1 line\n",
      "From david.horwitz@uct.ac.za Fri Jan  4 06:08:27 2008\n",
      "X-Authentication-Warning: nakamura.uits.iupui.edu: apache set sender to david.horwitz@uct.ac.za using -f\n",
      "From: david.horwitz@uct.ac.za\n",
      "Author: david.horwitz@uct.ac.za\n",
      "From david.horwitz@uct.ac.za Fri Jan  4 04:49:08 2008\n",
      "X-Authentication-Warning: nakamura.uits.iupui.edu: apache set sender to david.horwitz@uct.ac.za using -f\n",
      "From: david.horwitz@uct.ac.za\n",
      "Author: david.horwitz@uct.ac.za\n",
      "From david.horwitz@uct.ac.za Fri Jan  4 04:33:44 2008\n",
      "X-Authentication-Warning: nakamura.uits.iupui.edu: apache set sender to david.horwitz@uct.ac.za using -f\n",
      "From: david.horwitz@uct.ac.za\n",
      "Author: david.horwitz@uct.ac.za\n",
      "From stephen.marquard@uct.ac.za Fri Jan  4 04:07:34 2008\n",
      "X-Authentication-Warning: nakamura.uits.iupui.edu: apache set sender to stephen.marquard@uct.ac.za using -f\n",
      "From: stephen.marquard@uct.ac.za\n",
      "Author: stephen.marquard@uct.ac.za\n"
     ]
    }
   ],
   "source": [
    "fhand=open('../mbox-short.txt')\n",
    "for line in fhand:\n",
    "    line=line.rstrip()\n",
    "    if not '@uct.ac.za' in line:\n",
    "        continue\n",
    "    print line"
   ]
  },
  {
   "cell_type": "code",
   "execution_count": 87,
   "metadata": {
    "collapsed": false
   },
   "outputs": [
    {
     "name": "stdout",
     "output_type": "stream",
     "text": [
      "Enter the file name: bobo\n",
      "Thre were 27 subject lines in ../mbox-short.txt\n"
     ]
    }
   ],
   "source": [
    "fname=raw_input(\"Enter the file name: \")\n",
    "fname_default=\"../mbox-short.txt\"\n",
    "try:\n",
    "    fhand=open('../'+fname)\n",
    "except:\n",
    "    fhand=open(fname_default)\n",
    "    fname=fname_default\n",
    "\n",
    "count=0\n",
    "for line in fhand:\n",
    "    if line.startswith('Subject:'):\n",
    "        count+=1\n",
    "print \"Thre were\", count, 'subject lines in', fname"
   ]
  },
  {
   "cell_type": "markdown",
   "metadata": {},
   "source": [
    "##Assignment"
   ]
  },
  {
   "cell_type": "code",
   "execution_count": 93,
   "metadata": {
    "collapsed": false
   },
   "outputs": [
    {
     "name": "stdout",
     "output_type": "stream",
     "text": [
      "Enter file name: ../words.txt\n",
      "WRITING PROGRAMS OR PROGRAMMING IS A VERY CREATIVE\n",
      "AND REWARDING ACTIVITY  YOU CAN WRITE PROGRAMS FOR\n",
      "MANY REASONS RANGING FROM MAKING YOUR LIVING TO SOLVING\n",
      "A DIFFICULT DATA ANALYSIS PROBLEM TO HAVING FUN TO HELPING\n",
      "SOMEONE ELSE SOLVE A PROBLEM  THIS BOOK ASSUMES THAT\n",
      "{\\EM EVERYONE} NEEDS TO KNOW HOW TO PROGRAM AND THAT ONCE\n",
      "YOU KNOW HOW TO PROGRAM, YOU WILL FIGURE OUT WHAT YOU WANT\n",
      "TO DO WITH YOUR NEWFOUND SKILLS\n",
      "\n",
      "WE ARE SURROUNDED IN OUR DAILY LIVES WITH COMPUTERS RANGING\n",
      "FROM LAPTOPS TO CELL PHONES  WE CAN THINK OF THESE COMPUTERS\n",
      "AS OUR PERSONAL ASSISTANTS WHO CAN TAKE CARE OF MANY THINGS\n",
      "ON OUR BEHALF  THE HARDWARE IN OUR CURRENT-DAY COMPUTERS\n",
      "IS ESSENTIALLY BUILT TO CONTINUOUSLY AS US THE QUESTION\n",
      "WHAT WOULD YOU LIKE ME TO DO NEXT\n",
      "\n",
      "OUR COMPUTERS ARE FAST AND HAVE VASTS AMOUNTS OF MEMORY AND\n",
      "COULD BE VERY HELPFUL TO US IF WE ONLY KNEW THE LANGUAGE TO\n",
      "SPEAK TO EXPLAIN TO THE COMPUTER WHAT WE WOULD LIKE IT TO\n",
      "DO NEXT IF WE KNEW THIS LANGUAGE WE COULD TELL THE\n",
      "COMPUTER TO DO TASKS ON OUR BEHALF THAT WERE REPTITIVE\n",
      "INTERESTINGLY, THE KINDS OF THINGS COMPUTERS CAN DO BEST\n",
      "ARE OFTEN THE KINDS OF THINGS THAT WE HUMANS FIND BORING\n",
      "AND MIND-NUMBING\n"
     ]
    }
   ],
   "source": [
    "# Use words.txt as the file name\n",
    "fname = raw_input(\"Enter file name: \")\n",
    "fh = open(fname)\n",
    "for line in fh:\n",
    "    print line.strip().upper()"
   ]
  },
  {
   "cell_type": "raw",
   "metadata": {},
   "source": [
    "\n",
    "7.2 Write a program that prompts for a file name, then opens that file and reads through the file, looking for lines of the form:\n",
    "\n",
    "X-DSPAM-Confidence:    0.8475\n",
    "\n",
    "Count these lines and extract the floating point values from each of the lines and compute the average of those values and produce an output as shown below.\n",
    "\n",
    "You can download the sample data at http://www.pythonlearn.com/code/mbox-short.txt when you are testing below enter mbox-short.txt as the file name."
   ]
  },
  {
   "cell_type": "code",
   "execution_count": 103,
   "metadata": {
    "collapsed": false
   },
   "outputs": [
    {
     "name": "stdout",
     "output_type": "stream",
     "text": [
      "Enter the file name: \n",
      "0.8475 1\n",
      "0.6178 2\n",
      "0.6961 3\n",
      "0.7565 4\n",
      "0.7626 5\n",
      "0.7556 6\n",
      "0.7002 7\n",
      "0.7615 8\n",
      "0.7601 9\n",
      "0.7605 10\n",
      "0.6959 11\n",
      "0.7606 12\n",
      "0.7559 13\n",
      "0.7605 14\n",
      "0.6932 15\n",
      "0.7558 16\n",
      "0.6526 17\n",
      "0.6948 18\n",
      "0.6528 19\n",
      "0.7002 20\n",
      "0.7554 21\n",
      "0.6956 22\n",
      "0.6959 23\n",
      "0.7556 24\n",
      "0.9846 25\n",
      "0.8509 26\n",
      "0.9907 27\n",
      "Average spam confidence: 0.750718518519\n"
     ]
    }
   ],
   "source": [
    "import re\n",
    "fname=raw_input(\"Enter the file name: \")\n",
    "fname_default=\"../mbox-short.txt\"\n",
    "try:\n",
    "    fhand=open('../'+fname)\n",
    "except:\n",
    "    fhand=open(fname_default)\n",
    "    fname=fname_default\n",
    "    \n",
    "count=0\n",
    "summ=0\n",
    "for line in fhand:\n",
    "    \n",
    "    if not line.startswith(\"X-DSPAM-Confidence:\") : continue\n",
    "    count+=1\n",
    "    value=float(re.findall('[0-9.]+', line)[0])\n",
    "    #print value, count\n",
    "    summ=summ+value\n",
    "print \"Average spam confidence:\", summ/count"
   ]
  },
  {
   "cell_type": "code",
   "execution_count": null,
   "metadata": {
    "collapsed": true
   },
   "outputs": [],
   "source": []
  }
 ],
 "metadata": {
  "kernelspec": {
   "display_name": "Python 2",
   "language": "python",
   "name": "python2"
  },
  "language_info": {
   "codemirror_mode": {
    "name": "ipython",
    "version": 2
   },
   "file_extension": ".py",
   "mimetype": "text/x-python",
   "name": "python",
   "nbconvert_exporter": "python",
   "pygments_lexer": "ipython2",
   "version": "2.7.10"
  }
 },
 "nbformat": 4,
 "nbformat_minor": 0
}
