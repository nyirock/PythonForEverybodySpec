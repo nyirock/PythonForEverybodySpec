{
 "cells": [
  {
   "cell_type": "markdown",
   "metadata": {},
   "source": [
    "#Dictionaries"
   ]
  },
  {
   "cell_type": "code",
   "execution_count": 1,
   "metadata": {
    "collapsed": true
   },
   "outputs": [],
   "source": [
    "purse=dict()"
   ]
  },
  {
   "cell_type": "code",
   "execution_count": 2,
   "metadata": {
    "collapsed": true
   },
   "outputs": [],
   "source": [
    "purse['money']=12"
   ]
  },
  {
   "cell_type": "code",
   "execution_count": 3,
   "metadata": {
    "collapsed": true
   },
   "outputs": [],
   "source": [
    "purse['candy']=3"
   ]
  },
  {
   "cell_type": "code",
   "execution_count": 4,
   "metadata": {
    "collapsed": true
   },
   "outputs": [],
   "source": [
    "purse['tissues']=75"
   ]
  },
  {
   "cell_type": "code",
   "execution_count": 5,
   "metadata": {
    "collapsed": false
   },
   "outputs": [
    {
     "name": "stdout",
     "output_type": "stream",
     "text": [
      "{'money': 12, 'tissues': 75, 'candy': 3}\n"
     ]
    }
   ],
   "source": [
    "print purse"
   ]
  },
  {
   "cell_type": "code",
   "execution_count": 6,
   "metadata": {
    "collapsed": true
   },
   "outputs": [],
   "source": [
    "purse['candy']=purse['candy']+2"
   ]
  },
  {
   "cell_type": "code",
   "execution_count": 7,
   "metadata": {
    "collapsed": false
   },
   "outputs": [
    {
     "name": "stdout",
     "output_type": "stream",
     "text": [
      "{'money': 12, 'tissues': 75, 'candy': 5}\n"
     ]
    }
   ],
   "source": [
    "print purse"
   ]
  },
  {
   "cell_type": "markdown",
   "metadata": {},
   "source": [
    "<http://stackoverflow.com/questions/311627/how-to-print-date-in-a-regular-format-in-python>"
   ]
  },
  {
   "cell_type": "raw",
   "metadata": {},
   "source": [
    "    %a  Locale’s abbreviated weekday name.\n",
    "    %A  Locale’s full weekday name.      \n",
    "    %b  Locale’s abbreviated month name.     \n",
    "    %B  Locale’s full month name.\n",
    "    %c  Locale’s appropriate date and time representation.   \n",
    "    %d  Day of the month as a decimal number [01,31].    \n",
    "    %f  Microsecond as a decimal number [0,999999], zero-padded on the left\n",
    "    %H  Hour (24-hour clock) as a decimal number [00,23].    \n",
    "    %I  Hour (12-hour clock) as a decimal number [01,12].    \n",
    "    %j  Day of the year as a decimal number [001,366].   \n",
    "    %m  Month as a decimal number [01,12].   \n",
    "    %M  Minute as a decimal number [00,59].      \n",
    "    %p  Locale’s equivalent of either AM or PM.\n",
    "    %S  Second as a decimal number [00,61].\n",
    "    %U  Week number of the year (Sunday as the first day of the week)\n",
    "    %w  Weekday as a decimal number [0(Sunday),6].   \n",
    "    %W  Week number of the year (Monday as the first day of the week)\n",
    "    %x  Locale’s appropriate date representation.    \n",
    "    %X  Locale’s appropriate time representation.    \n",
    "    %y  Year without century as a decimal number [00,99].    \n",
    "    %Y  Year with century as a decimal number.   \n",
    "    %z  UTC offset in the form +HHMM or -HHMM.\n",
    "    %Z  Time zone name (empty string if the object is naive).    \n",
    "    %%  A literal '%' character."
   ]
  },
  {
   "cell_type": "code",
   "execution_count": 33,
   "metadata": {
    "collapsed": false
   },
   "outputs": [
    {
     "name": "stdout",
     "output_type": "stream",
     "text": [
      "2016-02-14 13:35:59:090000\n",
      "{'2016-02-14 13:35:59:143000': 'From: aaronz@vt.edu\\n', '2016-02-14 13:35:59:120000': 'From: aaronz@vt.edu\\n', '2016-02-14 13:35:59:094000': 'From: knoop@umich.edu\\n', '2016-02-14 13:35:59:118000': 'From: cwen@iupui.edu\\n', '2016-02-14 13:35:59:142000': 'From: aaronz@vt.edu\\n', '2016-02-14 13:35:59:123000': 'From: mmmay@indiana.edu\\n', '2016-02-14 13:35:59:133000': 'From: mmmay@indiana.edu\\n', '2016-02-14 13:35:59:113000': 'From: gjthomas@iupui.edu\\n', '2016-02-14 13:35:59:105000': 'From: cwen@iupui.edu\\n', '2016-02-14 13:35:59:131000': 'From: mmmay@indiana.edu\\n', '2016-02-14 13:35:59:107000': 'From: zqian@umich.edu\\n', '2016-02-14 13:35:59:122000': 'From: cwen@iupui.edu\\n', '2016-02-14 13:35:59:093000': 'From: david.horwitz@uct.ac.za\\n', '2016-02-14 13:35:59:096000': 'From: louis@media.berkeley.edu\\n', '2016-02-14 13:35:59:092000': 'From: stuart.freeman@et.gatech.edu\\n', '2016-02-14 13:35:59:109000': 'From: stuart.freeman@et.gatech.edu\\n', '2016-02-14 13:35:59:121000': 'From: wagnermr@iupui.edu\\n', '2016-02-14 13:35:59:106000': 'From: cwen@iupui.edu\\n', '2016-02-14 13:35:59:108000': 'From: nuno@ufp.pt\\n', '2016-02-14 13:35:59:138000': 'From: ajpoland@iupui.edu\\n', '2016-02-14 13:35:59:091000': 'From: ray@media.berkeley.edu\\n', '2016-02-14 13:35:59:127000': 'From: ian@caret.cam.ac.uk\\n', '2016-02-14 13:35:59:110000': 'From: zqian@umich.edu\\n', '2016-02-14 13:35:59:098000': 'From: a.fish@lancaster.ac.uk\\n', '2016-02-14 13:35:59:135000': 'From: wagnermr@iupui.edu\\n', '2016-02-14 13:35:59:101000': 'From: cwen@iupui.edu\\n', '2016-02-14 13:35:59:129000': 'From: chmaurer@iupui.edu\\n', '2016-02-14 13:35:59:104000': 'From: cwen@iupui.edu\\n', '2016-02-14 13:35:59:111000': 'From: dlhaines@umich.edu\\n', '2016-02-14 13:35:59:100000': 'From: ian@caret.cam.ac.uk\\n', '2016-02-14 13:35:59:115000': 'From: gjthomas@iupui.edu\\n', '2016-02-14 13:35:59:132000': 'From: mmmay@indiana.edu\\n', '2016-02-14 13:35:59:103000': 'From: cwen@iupui.edu\\n', '2016-02-14 13:35:59:116000': 'From: a.fish@lancaster.ac.uk\\n', '2016-02-14 13:35:59:099000': 'From: gjthomas@iupui.edu\\n', '2016-02-14 13:35:59:126000': 'From: rjlowe@iupui.edu\\n', '2016-02-14 13:35:59:119000': 'From: john.ellis@rsmart.com\\n', '2016-02-14 13:35:59:117000': 'From: stuart.freeman@et.gatech.edu\\n', '2016-02-14 13:35:59:128000': 'From: david.horwitz@uct.ac.za\\n', '2016-02-14 13:35:59:114000': 'From: zqian@umich.edu\\n', '2016-02-14 13:35:59:140000': 'From: louis@media.berkeley.edu\\n', '2016-02-14 13:35:59:136000': 'From: ajpoland@iupui.edu\\n', '2016-02-14 13:35:59:102000': 'From: cwen@iupui.edu\\n', '2016-02-14 13:35:59:130000': 'From: aaronz@vt.edu\\n', '2016-02-14 13:35:59:112000': 'From: ray@media.berkeley.edu\\n', '2016-02-14 13:35:59:134000': 'From: zqian@umich.edu\\n', '2016-02-14 13:35:59:125000': 'From: cwen@iupui.edu\\n', '2016-02-14 13:35:59:139000': 'From: jimeng@umich.edu\\n', '2016-02-14 13:35:59:097000': 'From: dlhaines@umich.edu\\n', '2016-02-14 13:35:59:144000': 'From: dlhaines@umich.edu\\n', '2016-02-14 13:35:59:095000': 'From: dlhaines@umich.edu\\n', '2016-02-14 13:35:59:137000': 'From: mmmay@indiana.edu\\n', '2016-02-14 13:35:59:141000': 'From: ian@caret.cam.ac.uk\\n', '2016-02-14 13:35:59:124000': 'From: cwen@iupui.edu\\n'}\n"
     ]
    }
   ],
   "source": [
    "from datetime import datetime\n",
    "d=dict()\n",
    "lst=[]\n",
    "print datetime.now().strftime(\"%Y-%m-%d %H:%M:%S:%f\")\n",
    "fhand=open('../mbox.txt')\n",
    "for line in fhand:\n",
    "    if not line.startswith('From:'): continue\n",
    "    timedate=datetime.now().strftime(\"%Y-%m-%d %H:%M:%S:%f\")\n",
    "    d[timedate]=line\n",
    "    lst.append(line)\n",
    "print d"
   ]
  },
  {
   "cell_type": "code",
   "execution_count": 34,
   "metadata": {
    "collapsed": false,
    "scrolled": true
   },
   "outputs": [
    {
     "name": "stdout",
     "output_type": "stream",
     "text": [
      "    2016-02-14 13:35:59:091000\tFrom: ray@media.berkeley.edu\n",
      "    2016-02-14 13:35:59:092000\tFrom: stuart.freeman@et.gatech.edu\n",
      "    2016-02-14 13:35:59:093000\tFrom: david.horwitz@uct.ac.za\n",
      "    2016-02-14 13:35:59:094000\tFrom: knoop@umich.edu\n",
      "    2016-02-14 13:35:59:095000\tFrom: dlhaines@umich.edu\n",
      "    2016-02-14 13:35:59:096000\tFrom: louis@media.berkeley.edu\n",
      "    2016-02-14 13:35:59:097000\tFrom: dlhaines@umich.edu\n",
      "    2016-02-14 13:35:59:098000\tFrom: a.fish@lancaster.ac.uk\n",
      "    2016-02-14 13:35:59:099000\tFrom: gjthomas@iupui.edu\n",
      "    2016-02-14 13:35:59:100000\tFrom: ian@caret.cam.ac.uk\n",
      "    2016-02-14 13:35:59:101000\tFrom: cwen@iupui.edu\n",
      "    2016-02-14 13:35:59:102000\tFrom: cwen@iupui.edu\n",
      "    2016-02-14 13:35:59:103000\tFrom: cwen@iupui.edu\n",
      "    2016-02-14 13:35:59:104000\tFrom: cwen@iupui.edu\n",
      "    2016-02-14 13:35:59:105000\tFrom: cwen@iupui.edu\n",
      "    2016-02-14 13:35:59:106000\tFrom: cwen@iupui.edu\n",
      "    2016-02-14 13:35:59:107000\tFrom: zqian@umich.edu\n",
      "    2016-02-14 13:35:59:108000\tFrom: nuno@ufp.pt\n",
      "    2016-02-14 13:35:59:109000\tFrom: stuart.freeman@et.gatech.edu\n",
      "    2016-02-14 13:35:59:110000\tFrom: zqian@umich.edu\n",
      "    2016-02-14 13:35:59:111000\tFrom: dlhaines@umich.edu\n",
      "    2016-02-14 13:35:59:112000\tFrom: ray@media.berkeley.edu\n",
      "    2016-02-14 13:35:59:113000\tFrom: gjthomas@iupui.edu\n",
      "    2016-02-14 13:35:59:114000\tFrom: zqian@umich.edu\n",
      "    2016-02-14 13:35:59:115000\tFrom: gjthomas@iupui.edu\n",
      "    2016-02-14 13:35:59:116000\tFrom: a.fish@lancaster.ac.uk\n",
      "    2016-02-14 13:35:59:117000\tFrom: stuart.freeman@et.gatech.edu\n",
      "    2016-02-14 13:35:59:118000\tFrom: cwen@iupui.edu\n",
      "    2016-02-14 13:35:59:119000\tFrom: john.ellis@rsmart.com\n",
      "    2016-02-14 13:35:59:120000\tFrom: aaronz@vt.edu\n",
      "    2016-02-14 13:35:59:121000\tFrom: wagnermr@iupui.edu\n",
      "    2016-02-14 13:35:59:122000\tFrom: cwen@iupui.edu\n",
      "    2016-02-14 13:35:59:123000\tFrom: mmmay@indiana.edu\n",
      "    2016-02-14 13:35:59:124000\tFrom: cwen@iupui.edu\n",
      "    2016-02-14 13:35:59:125000\tFrom: cwen@iupui.edu\n",
      "    2016-02-14 13:35:59:126000\tFrom: rjlowe@iupui.edu\n",
      "    2016-02-14 13:35:59:127000\tFrom: ian@caret.cam.ac.uk\n",
      "    2016-02-14 13:35:59:128000\tFrom: david.horwitz@uct.ac.za\n",
      "    2016-02-14 13:35:59:129000\tFrom: chmaurer@iupui.edu\n",
      "    2016-02-14 13:35:59:130000\tFrom: aaronz@vt.edu\n",
      "    2016-02-14 13:35:59:131000\tFrom: mmmay@indiana.edu\n",
      "    2016-02-14 13:35:59:132000\tFrom: mmmay@indiana.edu\n",
      "    2016-02-14 13:35:59:133000\tFrom: mmmay@indiana.edu\n",
      "    2016-02-14 13:35:59:134000\tFrom: zqian@umich.edu\n",
      "    2016-02-14 13:35:59:135000\tFrom: wagnermr@iupui.edu\n",
      "    2016-02-14 13:35:59:136000\tFrom: ajpoland@iupui.edu\n",
      "    2016-02-14 13:35:59:137000\tFrom: mmmay@indiana.edu\n",
      "    2016-02-14 13:35:59:138000\tFrom: ajpoland@iupui.edu\n",
      "    2016-02-14 13:35:59:139000\tFrom: jimeng@umich.edu\n",
      "    2016-02-14 13:35:59:140000\tFrom: louis@media.berkeley.edu\n",
      "    2016-02-14 13:35:59:141000\tFrom: ian@caret.cam.ac.uk\n",
      "    2016-02-14 13:35:59:142000\tFrom: aaronz@vt.edu\n",
      "    2016-02-14 13:35:59:143000\tFrom: aaronz@vt.edu\n",
      "    2016-02-14 13:35:59:144000\tFrom: dlhaines@umich.edu\n"
     ]
    }
   ],
   "source": [
    "for line in sorted(d.keys()):\n",
    "    print \"{:>30}\\t{}\".format(line.strip(), d[line].strip())"
   ]
  },
  {
   "cell_type": "code",
   "execution_count": 35,
   "metadata": {
    "collapsed": false
   },
   "outputs": [
    {
     "name": "stdout",
     "output_type": "stream",
     "text": [
      "54 1797\n"
     ]
    }
   ],
   "source": [
    "print len(d),len(lst)"
   ]
  },
  {
   "cell_type": "code",
   "execution_count": 40,
   "metadata": {
    "collapsed": false
   },
   "outputs": [
    {
     "name": "stdout",
     "output_type": "stream",
     "text": [
      "1455482688.23700\n",
      "1455482688.23700\n",
      "1455482688.23700\n",
      "1455482688.23700\n",
      "1455482688.23700\n",
      "1455482688.23700\n",
      "1455482688.23700\n",
      "1455482688.23700\n",
      "1455482688.23700\n",
      "1455482688.23700\n"
     ]
    }
   ],
   "source": [
    "import time\n",
    "for i in range(10):\n",
    "    print \"%.5f\" %(time.time())"
   ]
  },
  {
   "cell_type": "code",
   "execution_count": 52,
   "metadata": {
    "collapsed": false
   },
   "outputs": [
    {
     "name": "stdout",
     "output_type": "stream",
     "text": [
      "{'csev': 2, 'zqian': 1, 'cwen': 3}\n"
     ]
    }
   ],
   "source": [
    "counts=dict()\n",
    "names=['csev', 'cwen', 'csev', 'zqian', 'cwen','cwen']\n",
    "for name in names:\n",
    "    if name not in counts:\n",
    "        counts[name]=1\n",
    "    else:\n",
    "        counts[name]+=1\n",
    "print counts\n",
    "    "
   ]
  },
  {
   "cell_type": "code",
   "execution_count": 55,
   "metadata": {
    "collapsed": false
   },
   "outputs": [
    {
     "name": "stdout",
     "output_type": "stream",
     "text": [
      "{'csev': 2, 'zqian': 1, 'cwen': 3}\n"
     ]
    }
   ],
   "source": [
    "counts=dict()\n",
    "for name in names:\n",
    "    counts[name]=counts.get(name, 0)+1\n",
    "print counts"
   ]
  },
  {
   "cell_type": "code",
   "execution_count": null,
   "metadata": {
    "collapsed": true
   },
   "outputs": [],
   "source": [
    "counts=dict()"
   ]
  },
  {
   "cell_type": "code",
   "execution_count": 57,
   "metadata": {
    "collapsed": false
   },
   "outputs": [
    {
     "name": "stdout",
     "output_type": "stream",
     "text": [
      "enter a line of text: I like icecream but more I like apples\n",
      "Words: ['I', 'like', 'icecream', 'but', 'more', 'I', 'like', 'apples']\n",
      "Counting...\n",
      "Counts: {'like': 2, 'I': 2, 'but': 1, 'icecream': 1, 'apples': 1, 'more': 1}\n"
     ]
    }
   ],
   "source": [
    "line=raw_input(\"enter a line of text: \")\n",
    "words=line.split()\n",
    "counts=dict()\n",
    "\n",
    "print 'Words:', words\n",
    "print 'Counting...'\n",
    "\n",
    "for word in words:\n",
    "    counts[word]=counts.get(word, 0)+1\n",
    "\n",
    "print 'Counts:', counts"
   ]
  },
  {
   "cell_type": "code",
   "execution_count": 60,
   "metadata": {
    "collapsed": false
   },
   "outputs": [
    {
     "name": "stdout",
     "output_type": "stream",
     "text": [
      "like 2\n",
      "I 2\n",
      "but 1\n",
      "icecream 1\n",
      "apples 1\n",
      "more 1\n"
     ]
    }
   ],
   "source": [
    "for entry in counts:\n",
    "    print entry, counts[entry]"
   ]
  },
  {
   "cell_type": "code",
   "execution_count": 61,
   "metadata": {
    "collapsed": false
   },
   "outputs": [
    {
     "name": "stdout",
     "output_type": "stream",
     "text": [
      "['like', 'I', 'but', 'icecream', 'apples', 'more']\n"
     ]
    }
   ],
   "source": [
    "print list(counts)"
   ]
  },
  {
   "cell_type": "code",
   "execution_count": 62,
   "metadata": {
    "collapsed": false
   },
   "outputs": [
    {
     "name": "stdout",
     "output_type": "stream",
     "text": [
      "['like', 'I', 'but', 'icecream', 'apples', 'more']\n"
     ]
    }
   ],
   "source": [
    "print counts.keys()"
   ]
  },
  {
   "cell_type": "code",
   "execution_count": 63,
   "metadata": {
    "collapsed": false
   },
   "outputs": [
    {
     "name": "stdout",
     "output_type": "stream",
     "text": [
      "[2, 2, 1, 1, 1, 1]\n"
     ]
    }
   ],
   "source": [
    "print counts.values()"
   ]
  },
  {
   "cell_type": "code",
   "execution_count": 64,
   "metadata": {
    "collapsed": false
   },
   "outputs": [
    {
     "name": "stdout",
     "output_type": "stream",
     "text": [
      "[('like', 2), ('I', 2), ('but', 1), ('icecream', 1), ('apples', 1), ('more', 1)]\n"
     ]
    }
   ],
   "source": [
    "print counts.items()"
   ]
  },
  {
   "cell_type": "code",
   "execution_count": 65,
   "metadata": {
    "collapsed": false
   },
   "outputs": [
    {
     "name": "stdout",
     "output_type": "stream",
     "text": [
      "like 2\n",
      "I 2\n",
      "but 1\n",
      "icecream 1\n",
      "apples 1\n",
      "more 1\n"
     ]
    }
   ],
   "source": [
    "for x,y in counts.items():\n",
    "    print x,y"
   ]
  },
  {
   "cell_type": "code",
   "execution_count": null,
   "metadata": {
    "collapsed": true
   },
   "outputs": [],
   "source": []
  },
  {
   "cell_type": "code",
   "execution_count": 71,
   "metadata": {
    "collapsed": false
   },
   "outputs": [
    {
     "name": "stdout",
     "output_type": "stream",
     "text": [
      "Enter file:../words.txt\n",
      "{'What': 1, 'everyone}': 1, 'find': 1, 'We': 2, 'personal': 1, 'explain': 1, 'solving': 1, 'to': 16, 'only': 1, 'program': 1, 'do': 5, 'someone': 1, 'very': 2, 'know': 2, 'mind-numbing': 1, 'helpful': 1, 'like': 2, 'skills': 1, 'this': 1, 'activity': 1, 'often': 1, 'phones': 1, 'humans': 1, 'computer': 2, 'are': 3, 'our': 5, 'best': 1, 'out': 1, 'living': 1, 'what': 2, 'for': 1, 'surrounded': 1, 'creative': 1, 'cell': 1, 'rewarding': 1, 'assistants': 1, 'be': 1, 'we': 5, 'knew': 2, 'This': 1, 'were': 1, '{\\\\em': 1, 'fun': 1, 'Our': 1, 'care': 1, 'on': 2, 'essentially': 1, 'language': 2, 'of': 5, 'could': 2, 'computers': 5, 'programming': 1, 'newfound': 1, 'think': 1, 'tasks': 1, 'reasons': 1, 'Writing': 1, 'your': 2, 'speak': 1, 'from': 2, 'would': 2, 'question': 1, 'fast': 1, 'next': 2, 'memory': 1, 'ranging': 2, 'assumes': 1, 'that': 4, 'else': 1, 'laptops': 1, 'lives': 1, 'with': 2, 'behalf': 2, 'me': 1, 'these': 1, 'boring': 1, 'us': 2, 'tell': 1, 'will': 1, 'reptitive': 1, 'can': 4, 'many': 2, 'continuously': 1, 'making': 1, 'problem': 2, 'and': 5, 'have': 1, 'figure': 1, 'is': 2, 'it': 1, 'hardware': 1, 'as': 2, 'analysis': 1, 'want': 1, 'in': 2, 'You': 1, 'if': 1, 'needs': 1, 'built': 1, 'amounts': 1, 'things': 3, 'write': 1, 'how': 2, 'book': 1, 'take': 1, 'Interestingly,': 1, 'program,': 1, 'you': 4, 'difficult': 1, 'kinds': 2, 'who': 1, 'current-day': 1, 'helping': 1, 'The': 1, 'data': 1, 'a': 3, 'programs': 2, 'daily': 1, 'or': 1, 'solve': 1, 'vasts': 1, 'the': 6, 'If': 1, 'having': 1, 'once': 1}\n",
      "to 16\n"
     ]
    }
   ],
   "source": [
    "name=raw_input(\"Enter file:\")\n",
    "handle=open(name,'r')\n",
    "text=handle.read()\n",
    "words=text.split()\n",
    "\n",
    "counts=dict()\n",
    "for word in words:\n",
    "    counts[word]=counts.get(word,0)+1\n",
    "print counts\n",
    "bigCount=None\n",
    "bigWord=None\n",
    "for word, count in counts.items():\n",
    "    if bigCount is None or count > bigCount:\n",
    "        bigWord=word\n",
    "        bigCount=count\n",
    "print bigWord, bigCount"
   ]
  },
  {
   "cell_type": "markdown",
   "metadata": {},
   "source": [
    "# Assignment"
   ]
  },
  {
   "cell_type": "raw",
   "metadata": {},
   "source": [
    "\n",
    "9.4 Write a program to read through the mbox-short.txt and figure out who has the sent the greatest number of mail messages. The program looks for 'From ' lines and takes the second word of those lines as the person who sent the mail. The program creates a Python dictionary that maps the sender's mail address to a count of the number of times they appear in the file. After the dictionary is produced, the program reads through the dictionary using a maximum loop to find the most prolific committer."
   ]
  },
  {
   "cell_type": "code",
   "execution_count": 78,
   "metadata": {
    "collapsed": false
   },
   "outputs": [
    {
     "name": "stdout",
     "output_type": "stream",
     "text": [
      "Enter file:\n",
      "cwen@iupui.edu 5\n"
     ]
    }
   ],
   "source": [
    "name = raw_input(\"Enter file:\")\n",
    "if len(name) < 1 : name = \"../mbox-short.txt\"\n",
    "handle = open(name)\n",
    "\n",
    "counts=dict()\n",
    "\n",
    "for line in handle:\n",
    "    if not line.startswith('From:'): continue\n",
    "    address=line.split()[1]\n",
    "    counts[address]=counts.get(address, 0)+1\n",
    "\n",
    "bigCount=None\n",
    "bigWord=None\n",
    "for word, count in counts.items():\n",
    "    if bigCount is None or count > bigCount:\n",
    "        bigWord=word\n",
    "        bigCount=count\n",
    "print bigWord, bigCount\n"
   ]
  },
  {
   "cell_type": "code",
   "execution_count": null,
   "metadata": {
    "collapsed": true
   },
   "outputs": [],
   "source": []
  }
 ],
 "metadata": {
  "kernelspec": {
   "display_name": "Python 2",
   "language": "python",
   "name": "python2"
  },
  "language_info": {
   "codemirror_mode": {
    "name": "ipython",
    "version": 2
   },
   "file_extension": ".py",
   "mimetype": "text/x-python",
   "name": "python",
   "nbconvert_exporter": "python",
   "pygments_lexer": "ipython2",
   "version": "2.7.10"
  }
 },
 "nbformat": 4,
 "nbformat_minor": 0
}
