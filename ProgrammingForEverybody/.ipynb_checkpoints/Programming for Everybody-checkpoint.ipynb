{
 "cells": [
  {
   "cell_type": "markdown",
   "metadata": {},
   "source": [
    "#Week 1-2"
   ]
  },
  {
   "cell_type": "code",
   "execution_count": 1,
   "metadata": {
    "collapsed": false
   },
   "outputs": [
    {
     "data": {
      "text/plain": [
       "5"
      ]
     },
     "execution_count": 1,
     "metadata": {},
     "output_type": "execute_result"
    }
   ],
   "source": [
    "x = 1 + 2 * 3 - 8 / 4\n",
    "x"
   ]
  },
  {
   "cell_type": "raw",
   "metadata": {},
   "source": [
    "2.3 Write a program to prompt the user for hours and rate per hour using raw_input to compute gross pay. Use 35 hours and a rate of 2.75 per hour to test the program (the pay should be 96.25). You should use raw_input to read a string and float() to convert the string to a number. Do not worry about error checking or bad user data."
   ]
  },
  {
   "cell_type": "code",
   "execution_count": 3,
   "metadata": {
    "collapsed": false
   },
   "outputs": [
    {
     "name": "stdout",
     "output_type": "stream",
     "text": [
      "Enter Hours:35\n",
      "Enter Rate:2.75\n",
      "96.25\n"
     ]
    }
   ],
   "source": [
    "# This first line is provided for you\n",
    "\n",
    "# This first line is provided for you\n",
    "\n",
    "hrs = float(raw_input(\"Enter Hours:\"))\n",
    "rate = float(raw_input(\"Enter Rate:\"))\n",
    "\n",
    "pay=hrs*rate\n",
    "\n",
    "print pay"
   ]
  },
  {
   "cell_type": "markdown",
   "metadata": {},
   "source": [
    "#Week 3, 4, 5"
   ]
  },
  {
   "cell_type": "code",
   "execution_count": 4,
   "metadata": {
    "collapsed": false
   },
   "outputs": [
    {
     "name": "stdout",
     "output_type": "stream",
     "text": [
      "Small\n",
      "All done\n"
     ]
    }
   ],
   "source": [
    "x = 0\n",
    "if x < 2 :\n",
    "    print 'Small'\n",
    "elif x < 10 :\n",
    "    print 'Medium'\n",
    "else :\n",
    "    print 'LARGE'\n",
    "print 'All done'"
   ]
  },
  {
   "cell_type": "code",
   "execution_count": 7,
   "metadata": {
    "collapsed": false
   },
   "outputs": [
    {
     "name": "stdout",
     "output_type": "stream",
     "text": [
      "Two or more\n"
     ]
    }
   ],
   "source": [
    "x=\"22\"\n",
    "if x < 2 :\n",
    "    print 'Below 2'\n",
    "elif x >= 2 :\n",
    "     print 'Two or more'\n",
    "else :\n",
    "    print 'Something else'"
   ]
  },
  {
   "cell_type": "raw",
   "metadata": {},
   "source": [
    "\n",
    "3.1 Write a program to prompt the user for hours and rate per hour using raw_input to compute gross pay. Pay the hourly rate for the hours up to 40 and 1.5 times the hourly rate for all hours worked above 40 hours. Use 45 hours and a rate of 10.50 per hour to test the program (the pay should be 498.75). You should use raw_input to read a string and float() to convert the string to a number. Do not worry about error checking the user input - assume the user types numbers properly. "
   ]
  },
  {
   "cell_type": "code",
   "execution_count": 10,
   "metadata": {
    "collapsed": false
   },
   "outputs": [
    {
     "name": "stdout",
     "output_type": "stream",
     "text": [
      "Enter Hours:45\n",
      "Enter Rate:10.5\n",
      "498.75\n"
     ]
    }
   ],
   "source": [
    "hrs = float(raw_input(\"Enter Hours:\"))\n",
    "rate = float(raw_input(\"Enter Rate:\"))\n",
    "if(hrs>40):\n",
    "    pay=40*rate+(hrs-40)*rate*1.5\n",
    "else:\n",
    "    pay=hrs*rate\n",
    "print pay"
   ]
  },
  {
   "cell_type": "raw",
   "metadata": {},
   "source": [
    "\n",
    "3.3 Write a program to prompt for a score between 0.0 and 1.0. If the score is out of range, print an error. If the score is between 0.0 and 1.0, print a grade using the following table:\n",
    "Score Grade\n",
    ">= 0.9 A\n",
    ">= 0.8 B\n",
    ">= 0.7 C\n",
    ">= 0.6 D\n",
    "< 0.6 F\n",
    "If the user enters a value out of range, print a suitable error message and exit. For the test, enter a score of 0.85. "
   ]
  },
  {
   "cell_type": "code",
   "execution_count": 2,
   "metadata": {
    "collapsed": false
   },
   "outputs": [
    {
     "name": "stdout",
     "output_type": "stream",
     "text": [
      "Enter a grade in range from 0.0 to 1.0: 0\n",
      "F\n",
      "Enter a grade in range from 0.0 to 1.0: 1\n",
      "A\n",
      "Enter a grade in range from 0.0 to 1.0: 1.001\n",
      "Error, please enter a number in range from 0.0 to 1!\n",
      "Enter a grade in range from 0.0 to 1.0: quit\n"
     ]
    }
   ],
   "source": [
    "while True:\n",
    "    grade=raw_input(\"Enter a grade in range from 0.0 to 1.0: \")\n",
    "    if grade=='quit':\n",
    "        break\n",
    "    try:\n",
    "        grade=float(grade)\n",
    "    except:\n",
    "        print \"Error, please enter a float number!\"\n",
    "        continue\n",
    "      \n",
    "    if (grade < 0. or grade >1.):\n",
    "        print \"Error, please enter a number in range from 0.0 to 1!\"\n",
    "        continue\n",
    "\n",
    "    if grade >= 0.9:\n",
    "        print \"A\"\n",
    "    elif grade >= 0.8:\n",
    "        print \"B\"\n",
    "    elif grade >= 0.7:\n",
    "        print \"C\"\n",
    "    elif grade >= 0.6:\n",
    "        print \"D\"\n",
    "    elif grade < 0.6:\n",
    "        print \"F\"\n",
    "    else:\n",
    "        print 'undetermined'"
   ]
  },
  {
   "cell_type": "markdown",
   "metadata": {},
   "source": [
    "# Week 6"
   ]
  },
  {
   "cell_type": "raw",
   "metadata": {},
   "source": [
    "4.6 Write a program to prompt the user for hours and rate per hour using raw_input to compute gross pay. Award time-and-a-half for the hourly rate for all hours worked above 40 hours. Put the logic to do the computation of time-and-a-half in a function called computepay() and use the function to do the computation. The function should return a value. Use 45 hours and a rate of 10.50 per hour to test the program (the pay should be 498.75). You should use raw_input to read a string and float() to convert the string to a number. Do not worry about error checking the user input unless you want to - you can assume the user types numbers properly. "
   ]
  },
  {
   "cell_type": "code",
   "execution_count": 3,
   "metadata": {
    "collapsed": false
   },
   "outputs": [
    {
     "data": {
      "text/plain": [
       "498.75"
      ]
     },
     "execution_count": 3,
     "metadata": {},
     "output_type": "execute_result"
    }
   ],
   "source": [
    "def computepay(hrs, rate):\n",
    "    if(hrs>40):\n",
    "        pay=40*rate+(hrs-40)*rate*1.5\n",
    "    else:\n",
    "        pay=hrs*rate\n",
    "    return pay\n",
    "computepay(45, 10.50)   "
   ]
  },
  {
   "cell_type": "markdown",
   "metadata": {},
   "source": [
    "#Week 7"
   ]
  },
  {
   "cell_type": "code",
   "execution_count": 9,
   "metadata": {
    "collapsed": false
   },
   "outputs": [],
   "source": [
    "smallest=0\n",
    "if smallest is \"\" :\n",
    "    smallest = value\n",
    "    print hehe"
   ]
  },
  {
   "cell_type": "raw",
   "metadata": {},
   "source": [
    "\n",
    "5.2 Write a program that repeatedly prompts a user for integer numbers until the user enters 'done'. Once 'done' is entered, print out the largest and smallest of the numbers. If the user enters anything other than a valid number catch it with a try/except and put out an appropriate message and ignore the number. Enter the numbers from the book for problem 5.1 and Match the desired output as shown. "
   ]
  },
  {
   "cell_type": "code",
   "execution_count": 2,
   "metadata": {
    "collapsed": false
   },
   "outputs": [
    {
     "name": "stdout",
     "output_type": "stream",
     "text": [
      "Enter a grade in range from 0.0 to 1.0: 5\n",
      "Enter a grade in range from 0.0 to 1.0: -3\n",
      "Enter a grade in range from 0.0 to 1.0: 20\n",
      "Enter a grade in range from 0.0 to 1.0: 25\n",
      "Enter a grade in range from 0.0 to 1.0: dlksfjskl\n",
      "Invalid input\n",
      "Enter a grade in range from 0.0 to 1.0: 30\n",
      "Enter a grade in range from 0.0 to 1.0: done\n",
      "Maximum 30.0\n",
      "Minimum -3.0\n"
     ]
    }
   ],
   "source": [
    "largest = None\n",
    "smallest = float(\"inf\")\n",
    "while True:\n",
    "    num=raw_input(\"Enter a grade in range from 0.0 to 1.0: \")\n",
    "    if num=='done':break\n",
    "    try:\n",
    "        num=float(num)\n",
    "    except:\n",
    "        print \"Invalid input\"\n",
    "        continue\n",
    "        \n",
    "    if num > largest:\n",
    "        largest=num\n",
    "    if num<smallest:\n",
    "        smallest=num\n",
    "\n",
    "print \"Maximum\", largest\n",
    "print \"Minimum\", smallest"
   ]
  },
  {
   "cell_type": "code",
   "execution_count": null,
   "metadata": {
    "collapsed": true
   },
   "outputs": [],
   "source": []
  }
 ],
 "metadata": {
  "kernelspec": {
   "display_name": "Python 2",
   "language": "python",
   "name": "python2"
  },
  "language_info": {
   "codemirror_mode": {
    "name": "ipython",
    "version": 2
   },
   "file_extension": ".py",
   "mimetype": "text/x-python",
   "name": "python",
   "nbconvert_exporter": "python",
   "pygments_lexer": "ipython2",
   "version": "2.7.10"
  }
 },
 "nbformat": 4,
 "nbformat_minor": 0
}
