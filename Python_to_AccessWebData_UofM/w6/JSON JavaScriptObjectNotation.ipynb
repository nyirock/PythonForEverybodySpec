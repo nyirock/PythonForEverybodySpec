{
 "cells": [
  {
   "cell_type": "markdown",
   "metadata": {},
   "source": [
    "# JavaScriptObjectNotation\n",
    "<http://www.json.org/>"
   ]
  },
  {
   "cell_type": "code",
   "execution_count": 1,
   "metadata": {
    "collapsed": false
   },
   "outputs": [
    {
     "name": "stdout",
     "output_type": "stream",
     "text": [
      "<type 'dict'>\n",
      "Name: Chuck\n",
      "Hide: yes\n"
     ]
    }
   ],
   "source": [
    "import json\n",
    "data= '''{\n",
    "    \"name\": \"Chuck\",\n",
    "    \"phone\": {\n",
    "        \"type\": \"intl\",\n",
    "        \"number\": \"+1 734 303 4456\"\n",
    "        },\n",
    "    \"email\": {\n",
    "        \"hide\": \"yes\"\n",
    "    }\n",
    "}'''\n",
    "\n",
    "info = json.loads(data)# load from string\n",
    "print type(info)# output is a dictionary!\n",
    "print 'Name:', info[\"name\"]\n",
    "print 'Hide:', info[\"email\"][\"hide\"]"
   ]
  },
  {
   "cell_type": "code",
   "execution_count": 6,
   "metadata": {
    "collapsed": false
   },
   "outputs": [
    {
     "name": "stdout",
     "output_type": "stream",
     "text": [
      "a\n",
      "b\n",
      "c\n"
     ]
    },
    {
     "data": {
      "text/plain": [
       "list"
      ]
     },
     "execution_count": 6,
     "metadata": {},
     "output_type": "execute_result"
    }
   ],
   "source": [
    "inf=json.loads('[\"a\", \"b\",\"c\"]')\n",
    "for i in inf:\n",
    "    print i\n",
    "type(inf)"
   ]
  },
  {
   "cell_type": "markdown",
   "metadata": {},
   "source": [
    "## Using lists for JSON"
   ]
  },
  {
   "cell_type": "code",
   "execution_count": 5,
   "metadata": {
    "collapsed": false
   },
   "outputs": [
    {
     "name": "stdout",
     "output_type": "stream",
     "text": [
      "User count 2\n",
      "Name Chuck\n",
      "Id 001\n",
      "Attribute 2\n",
      "Name Chuck\n",
      "Id 009\n",
      "Attribute 7\n"
     ]
    }
   ],
   "source": [
    "import json\n",
    "data ='''[\n",
    " {\n",
    "    \"id\":\"001\",\n",
    "    \"x\":2,\n",
    "    \"name\":\"Chuck\"\n",
    " },\n",
    " {\n",
    "    \"id\":\"009\",\n",
    "    \"x\":\"7\",\n",
    "    \"name\":\"Chuck\"\n",
    " }\n",
    "]'''\n",
    "\n",
    "info=json.loads(data)\n",
    "print \"User count\", len(info)\n",
    "for item in info:\n",
    "    print \"Name\", item[\"name\"]\n",
    "    print \"Id\", item[\"id\"]\n",
    "    print \"Attribute\",item[\"x\"]"
   ]
  },
  {
   "cell_type": "markdown",
   "metadata": {},
   "source": [
    "## API"
   ]
  },
  {
   "cell_type": "code",
   "execution_count": null,
   "metadata": {
    "collapsed": true
   },
   "outputs": [],
   "source": [
    "import urllib\n",
    "import json\n",
    "serviceurl='http://maps.google.com/maps/api/geocode/json?'\n",
    "\n",
    "while True:\n",
    "    address = raw_input('Enter location: ')\n",
    "    if len(address)<1:break\n",
    "        \n",
    "    url = serviceurl+urllib.urlencode({'sensor':'false','address':address})\n",
    "    print 'Retrieving', url\n",
    "    uh = urllib.urlopen(url)\n",
    "    data=uh.read()\n",
    "    print 'Retrieved',len(data),'characters'\n",
    "    \n",
    "    try: js = json.loads(str(data))\n",
    "    except: js=None\n",
    "    if 'status' not in js or js['status']!='OK':\n",
    "        print '=== Failure To Retrieve ==='\n",
    "        print data\n",
    "        continue\n",
    "    \n",
    "    print json.dumps(js,indent=4)#pretty printing\n",
    "    \n",
    "    lat=js[\"results\"][0][\"geometry\"][\"location\"][\"lat\"]\n",
    "    lng=js[\"results\"][0][\"geometry\"][\"location\"][\"lng\"]\n",
    "    print 'lat',lat,'lng',lng\n",
    "    location=js['results'][0]['formatted_address']\n",
    "    print location\n",
    "    "
   ]
  },
  {
   "cell_type": "markdown",
   "metadata": {},
   "source": [
    "## Twitter API"
   ]
  },
  {
   "cell_type": "markdown",
   "metadata": {},
   "source": [
    "testAPIfromPython \n",
    " <https://apps.twitter.com/app/9388941>\n",
    " \n",
    " <https://dev.twitter.com/oauth/overview/introduction>\n",
    " \n",
    "Consumer Key (API Key) e3wIjh4YqlW2bTx0bnuoqFSUV (manage keys and access tokens) "
   ]
  },
  {
   "cell_type": "raw",
   "metadata": {},
   "source": [
    " Consumer Key (API Key) e3wIjh4YqlW2bTx0bnuoqFSUV\n",
    "Consumer Secret (API Secret) wyt0HZ4E39549PeYxceTlONd5od9jLONteH0bLLEbo5RNKKJ34\n",
    "Access Level Read and write (modify app permissions)\n",
    "Owner nyirock\n",
    "Owner ID 2789693187 \n",
    "\n",
    "\n",
    "Access Token 2789693187-PqmgeCp4aHuaXkB4CnRmZTmIlsvWVx9gyEn19C0\n",
    "Access Token Secret csHOBiLnBxYr3MT9jcSXiqplgT1qjvkLpJZQJ0BwKP4fD\n",
    "Access Level Read and write\n",
    "Owner nyirock\n",
    "Owner ID 2789693187"
   ]
  },
  {
   "cell_type": "markdown",
   "metadata": {
    "collapsed": true
   },
   "source": [
    "# Assignment"
   ]
  },
  {
   "cell_type": "markdown",
   "metadata": {},
   "source": [
    "## Extracting Data from JSON"
   ]
  },
  {
   "cell_type": "raw",
   "metadata": {},
   "source": [
    "n this assignment you will write a Python program somewhat similar to http://www.pythonlearn.com/code/json2.py. The program will prompt for a URL, read the JSON data from that URL using urllib and then parse and extract the comment counts from the JSON data, compute the sum of the numbers in the file and enter the sum below:\n",
    "\n",
    "We provide two files for this assignment. One is a sample file where we give you the sum for your testing and the other is the actual data you need to process for the assignment.\n",
    "\n",
    "    Sample data: http://python-data.dr-chuck.net/comments_42.json (Sum=2482)\n",
    "    Actual data: http://python-data.dr-chuck.net/comments_189024.json (Sum ends with 4)\n",
    "\n",
    "You do not need to save these files to your folder since your program will read the data directly from the URL. Note: Each student will have a distinct data url for the assignment - so only use your own data url for analysis.\n",
    "\n",
    "Data Format\n",
    "\n",
    "The data consists of a number of names and comment counts in JSON as follows:\n",
    "\n",
    "{\n",
    "  comments: [\n",
    "    {\n",
    "      name: \"Matthias\"\n",
    "      count: 97\n",
    "    },\n",
    "    {\n",
    "      name: \"Geomer\"\n",
    "      count: 97\n",
    "    }\n",
    "    ...\n",
    "  ]\n",
    "}\n"
   ]
  },
  {
   "cell_type": "code",
   "execution_count": null,
   "metadata": {
    "collapsed": false
   },
   "outputs": [
    {
     "name": "stdout",
     "output_type": "stream",
     "text": [
      "Enter location: http://python-data.dr-chuck.net/comments_42.json\n",
      "Retrieving http://python-data.dr-chuck.net/comments_42.json\n",
      "Retrieved 2726 characters\n",
      "2\n",
      "Count: 50\n",
      "Sum: 2482\n",
      "Enter location: http://python-data.dr-chuck.net/comments_189024.json\n",
      "Retrieving http://python-data.dr-chuck.net/comments_189024.json\n",
      "Retrieved 2722 characters\n",
      "2\n",
      "Count: 50\n",
      "Sum: 2604\n"
     ]
    }
   ],
   "source": [
    "import json\n",
    "\n",
    "import urllib\n",
    "\n",
    "#serviceurl='http://maps.google.com/maps/api/geocode/json?'\n",
    "\n",
    "while True:\n",
    "    address = raw_input('Enter location: ')\n",
    "    if len(address)<1:break\n",
    "    url=address\n",
    "    print 'Retrieving', url\n",
    "    uh = urllib.urlopen(url)\n",
    "    data=uh.read()\n",
    "    #print data\n",
    "    print 'Retrieved',len(data),'characters'\n",
    "    try: js = json.loads(str(data))\n",
    "    except: js=None\n",
    "    #print len(js)\n",
    "    summ=0\n",
    "    count=0\n",
    "    for item in js[\"comments\"]:\n",
    "        count+=1\n",
    "        summ+=int(item[\"count\"])\n",
    "    print \"Count:\", count\n",
    "    print \"Sum:\", summ"
   ]
  },
  {
   "cell_type": "markdown",
   "metadata": {},
   "source": [
    "##Calling a JSON API"
   ]
  },
  {
   "cell_type": "raw",
   "metadata": {},
   "source": [
    "In this assignment you will write a Python program somewhat similar to http://www.pythonlearn.com/code/geojson.py. The program will prompt for a location, contact a web service and retrieve JSON for the web service and parse that data, and retrieve the first place_id from the JSON. A place ID is a textual identifier that uniquely identifies a place as within Google Maps.\n",
    "\n",
    "API End Points\n",
    "\n",
    "To complete this assignment, you should use this API endpoint that has a static subset of the Google Data:\n",
    "\n",
    "http://python-data.dr-chuck.net/geojson\n",
    "\n",
    "This API uses the same parameters (sensor and address) as the Google API. This API also has no rate limit so you can test as often as you like. If you visit the URL with no parameters, you get a list of all of the address values which can be used with this API.\n",
    "\n",
    "To call the API, you need to provide a sensor=false parameter and the address that you are requesting as the address= parameter that is properly URL encoded using the urllib.urlencode() fuction as shown in http://www.pythonlearn.com/code/geojson.py\n",
    "\n",
    "Just for fun, you can also test your program with the real Google API:\n",
    "\n",
    "http://maps.googleapis.com/maps/api/geocode/json?sensor=false&address=University+of+Michigan\n",
    "\n",
    "Singe Google's data is always changing, the data returned from the Google API could easily be different than from my local copy API. And the Google API has rate limits. But your code should work with the Google API with no modifications other than the base URL.\n",
    "\n",
    "Test Data / Sample Execution\n",
    "\n",
    "You can test to see if your program is working with a location of \"South Federal University\" which will have a place_id of \"ChIJJ8oO7_B_bIcR2AlhC8nKlok\".\n",
    "\n",
    "$ python solution.py\n",
    "Enter location: South Federal University \n",
    "Retrieving http://...\n",
    "Retrieved 2101 characters\n",
    "Place id ChIJJ8oO7_B_bIcR2AlhC8nKlok "
   ]
  },
  {
   "cell_type": "code",
   "execution_count": null,
   "metadata": {
    "collapsed": false
   },
   "outputs": [
    {
     "name": "stdout",
     "output_type": "stream",
     "text": [
      "Enter location: South Federal University\n",
      "Retrieving http://maps.google.com/maps/api/geocode/json?sensor=false&address=South+Federal+University\n",
      "Retrieved 2115 characters\n",
      "Place id ChIJJ8oO7_B_bIcR2AlhC8nKlok\n",
      "Enter location: University of Moratuwa\n",
      "Retrieving http://maps.google.com/maps/api/geocode/json?sensor=false&address=University+of+Moratuwa\n",
      "Retrieved 4137 characters\n",
      "Place id ChIJJRG5gj9F4joRfOEvj7JWwkc\n",
      "Enter location: university of michigan\n",
      "Retrieving http://maps.google.com/maps/api/geocode/json?sensor=false&address=university+of+michigan\n",
      "Retrieved 1914 characters\n",
      "Place id ChIJvVDvkDiuPIgRyEqOjFheWyM\n"
     ]
    }
   ],
   "source": [
    "import urllib\n",
    "import json\n",
    "serviceurl='http://maps.google.com/maps/api/geocode/json?'\n",
    "\n",
    "while True:\n",
    "    address = raw_input('Enter location: ')\n",
    "    if len(address)<1:break\n",
    "        \n",
    "    url = serviceurl+urllib.urlencode({'sensor':'false','address':address})\n",
    "    print 'Retrieving', url\n",
    "    uh = urllib.urlopen(url)\n",
    "    data=uh.read()\n",
    "    print 'Retrieved',len(data),'characters'\n",
    "    \n",
    "    #print data\n",
    "    \n",
    "    try: js = json.loads(str(data))\n",
    "    except: js=None\n",
    "    if 'status' not in js or js['status']!='OK':\n",
    "        print '=== Failure To Retrieve ==='\n",
    "        print data\n",
    "        continue\n",
    "    \n",
    "    #print json.dumps(js,indent=4)#pretty printing\n",
    "    \n",
    "    #lat=js[\"results\"][0][\"geometry\"][\"location\"][\"lat\"]\n",
    "    #lng=js[\"results\"][0][\"geometry\"][\"location\"][\"lng\"]\n",
    "    #print 'lat',lat,'lng',lng\n",
    "    #location=js['results'][0]['formatted_address']\n",
    "    print \"Place id\",js[\"results\"][0][\"place_id\"]\n",
    "  "
   ]
  },
  {
   "cell_type": "code",
   "execution_count": null,
   "metadata": {
    "collapsed": true
   },
   "outputs": [],
   "source": []
  }
 ],
 "metadata": {
  "celltoolbar": "Raw Cell Format",
  "kernelspec": {
   "display_name": "Python 2",
   "language": "python",
   "name": "python2"
  },
  "language_info": {
   "codemirror_mode": {
    "name": "ipython",
    "version": 2
   },
   "file_extension": ".py",
   "mimetype": "text/x-python",
   "name": "python",
   "nbconvert_exporter": "python",
   "pygments_lexer": "ipython2",
   "version": "2.7.10"
  }
 },
 "nbformat": 4,
 "nbformat_minor": 0
}
