{
 "cells": [
  {
   "cell_type": "markdown",
   "metadata": {},
   "source": [
    "# Parsing using beautiful soup"
   ]
  },
  {
   "cell_type": "code",
   "execution_count": 1,
   "metadata": {
    "collapsed": false
   },
   "outputs": [],
   "source": [
    "import urllib\n",
    "from BeautifulSoup import *"
   ]
  },
  {
   "cell_type": "code",
   "execution_count": 9,
   "metadata": {
    "collapsed": false
   },
   "outputs": [
    {
     "name": "stdout",
     "output_type": "stream",
     "text": [
      "Enter - http://www.dr-chuck.com\n"
     ]
    }
   ],
   "source": [
    "url = raw_input('Enter - ') "
   ]
  },
  {
   "cell_type": "code",
   "execution_count": 13,
   "metadata": {
    "collapsed": true
   },
   "outputs": [],
   "source": [
    "html= urllib.urlopen(url).read() #reads the entire webpage\n",
    "soup=BeautifulSoup(html) #parse webpage"
   ]
  },
  {
   "cell_type": "code",
   "execution_count": 14,
   "metadata": {
    "collapsed": true
   },
   "outputs": [],
   "source": [
    "tags=soup('p')"
   ]
  },
  {
   "cell_type": "code",
   "execution_count": 25,
   "metadata": {
    "collapsed": false
   },
   "outputs": [
    {
     "name": "stdout",
     "output_type": "stream",
     "text": [
      "<p>\r\n",
      "Free Courses / Educational Material:\r\n",
      "<br /> &nbsp;\r\n",
      "<a href=\"https://www.coursera.org/course/pythonlearn\" target=\"_blank\">Coursera: Programming for Everybody</a> (Python)\r\n",
      "<br /> &nbsp;\r\n",
      "<a href=\"https://www.coursera.org/course/insidetheinternet\" target=\"_blank\">Coursera: Internet History, Technnology and Security</a>\n",
      "<br /> &nbsp;\r\n",
      "<a href=\"http://open.umich.edu/education/si/si502/winter2009/\" target=\"_blank\">SI 502 - Networked Computing</a>\n",
      "<br /> &nbsp; See also <a href=\"http://www.pythonlearn.com\" target=\"_blank\">www.pythonlearn.com</a>,\r\n",
      "<a href=\"http://www.php-intro.com/\" target=\"_blank\">\r\n",
      "www.php-intro.com</a>\r\n",
      "and\r\n",
      "<a href=\"http://www.appenginelearn.com\">\r\n",
      "www.appenginelearn.com</a>\n",
      "</p>\n",
      "<p>\r\n",
      "Books\r\n",
      "<br /> &nbsp; <a href=\"http://www.pythonlearn.com/\">Python For Informatics: Exploring Information</a>  (2010, 2014)\r\n",
      "<br /> &nbsp; <a href=\"/sakai-book\">Sakai: Building an Open Source Community</a> (2011, 2014)\r\n",
      "<br /> &nbsp; <a href=\"http://www.amazon.com/gp/product/1624311393/ref=as_li_ss_tl?ie=UTF8&amp;camp=1789&amp;creative=390957&amp;creativeASIN=1624311393&amp;linkCode=as2&amp;tag=drchu02-20\" target=\"_blank\">Raspberry Pi (21st Century Skills Innovation Library)</a> (2013)\r\n",
      "<br /> &nbsp; <a href=\"http://www.amazon.com/gp/product/059680069X/ref=as_li_ss_tl?ie=UTF8&amp;camp=1789&amp;creative=390957&amp;creativeASIN=059680069X&amp;linkCode=as2&amp;tag=drchu02-20\" target=\"_blank\">Using Google App Engine</a> (O'Reilly 2009)\r\n",
      "<br /> &nbsp; <a href=\"http://www.amazon.com/Performance-Computing-Architectures-Optimization-Benchmarks/dp/156592312X/\" target=\"_blank\">High Performance Computing</a> (<a href=\"http://oreilly.com/catalog/9781565923126/\" target=\"_blank\">O'Reilly 1998</a>,  <a href=\"http://cnx.org/content/col11136/latest/\" target=\"_blank\">Connexions 2010</a>)\r\n",
      "</p>\n",
      "<p>\r\n",
      "Software\r\n",
      "<br /> &nbsp;\r\n",
      "<a href=\"http://www.sakaiproject.org/\" target=\"_blank\">The Sakai Collaboration\r\n",
      "and Learning Environment</a>\n",
      "<br /> &nbsp;\r\n",
      "<a href=\"http://www.tsugi.org/ target=\" _blank=\"_blank\">Tsugi: A PHP framework for IMS LTI Tools</a>\n",
      "<br /> &nbsp;\r\n",
      "<a href=\"http://developers.imsglobal.org/\" target=\"_blank\">IMS Learning Tools\r\n",
      "Interoperability</a>\n",
      "<br /> &nbsp;\r\n",
      "<a href=\"/obi-sample\" target=\"_blank\">My Reference Implementation of Mozilla Open Badges in PHP</a>\n",
      "<br /> &nbsp;\r\n",
      "</p>\n"
     ]
    }
   ],
   "source": [
    "for tag in tags:\n",
    "    #print tag.get('href', None) #shows a tags with 'href' in it\n",
    "    print tag"
   ]
  },
  {
   "cell_type": "markdown",
   "metadata": {
    "collapsed": true
   },
   "source": [
    "# Quiz"
   ]
  },
  {
   "cell_type": "code",
   "execution_count": 30,
   "metadata": {
    "collapsed": false
   },
   "outputs": [
    {
     "data": {
      "text/plain": [
       "['<p>Please click <a href=\"http://www.dr-chuck.com\">here</a></p>']"
      ]
     },
     "execution_count": 30,
     "metadata": {},
     "output_type": "execute_result"
    }
   ],
   "source": [
    "string='<p>Please click <a href=\"http://www.dr-chuck.com\">here</a></p>'\n",
    "import re\n",
    "re.findall('href=\"(.+)\"',string)\n"
   ]
  },
  {
   "cell_type": "markdown",
   "metadata": {
    "collapsed": true
   },
   "source": [
    "# Assignment\n",
    "\n"
   ]
  },
  {
   "cell_type": "code",
   "execution_count": 31,
   "metadata": {
    "collapsed": true
   },
   "outputs": [],
   "source": [
    "import urllib\n",
    "from BeautifulSoup import *\n"
   ]
  },
  {
   "cell_type": "raw",
   "metadata": {},
   "source": [
    "...\n",
    "# Retrieve all of the anchor tags\n",
    "tags = soup('a')\n",
    "for tag in tags:\n",
    "   # Look at the parts of a tag\n",
    "   print 'TAG:',tag\n",
    "   print 'URL:',tag.get('href', None)\n",
    "   print 'Contents:',tag.contents[0]\n",
    "   print 'Attrs:',tag.attrs"
   ]
  },
  {
   "cell_type": "code",
   "execution_count": 48,
   "metadata": {
    "collapsed": false
   },
   "outputs": [
    {
     "name": "stdout",
     "output_type": "stream",
     "text": [
      "Enter - http://python-data.dr-chuck.net/comments_189023.html\n"
     ]
    }
   ],
   "source": [
    "url = raw_input('Enter - ') "
   ]
  },
  {
   "cell_type": "code",
   "execution_count": 49,
   "metadata": {
    "collapsed": true
   },
   "outputs": [],
   "source": [
    "html= urllib.urlopen(url).read() #reads the entire webpage\n",
    "soup=BeautifulSoup(html) #parse webpage"
   ]
  },
  {
   "cell_type": "code",
   "execution_count": 50,
   "metadata": {
    "collapsed": true
   },
   "outputs": [],
   "source": [
    "tags=soup('span')"
   ]
  },
  {
   "cell_type": "code",
   "execution_count": 53,
   "metadata": {
    "collapsed": false
   },
   "outputs": [
    {
     "name": "stdout",
     "output_type": "stream",
     "text": [
      "2210\n",
      "50\n"
     ]
    }
   ],
   "source": [
    "sum1=0\n",
    "count=0\n",
    "for tag in tags:\n",
    "    if tag.get('class')=='comments':\n",
    "        #print tag.contents[0]\n",
    "        sum1+=int(tag.contents[0])\n",
    "        count+=1\n",
    "\n",
    "print sum1\n",
    "print count"
   ]
  },
  {
   "cell_type": "raw",
   "metadata": {},
   "source": [
    " Following Links in Python\n",
    "\n",
    "In this assignment you will write a Python program that expands on http://www.pythonlearn.com/code/urllinks.py. The program will use urllib to read the HTML from the data files below, extract the href= vaues from the anchor tags, scan for a tag that is in a particular position relative to the first name in the list, follow that link and repeat the process a number of times and report the last name you find.\n",
    "\n",
    "We provide two files for this assignment. One is a sample file where we give you the name for your testing and the other is the actual data you need to process for the assignment\n",
    "\n",
    "    Sample problem: Start at https://pr4e.dr-chuck.com/tsugi/mod/python-data/data/known_by_Fikret.html\n",
    "    Find the link at position 3 (the first name is 1). Follow that link. Repeat this process 4 times. The answer is the last name that you retrieve.\n",
    "    Sequence of names: Fikret Montgomery Mhairade Butchi Anayah\n",
    "    Last name in sequence: Anayah\n",
    "    Actual problem: Start at: https://pr4e.dr-chuck.com/tsugi/mod/python-data/data/known_by_Nikki.html\n",
    "    Find the link at position 18 (the first name is 1). Follow that link. Repeat this process 7 times. The answer is the last name that you retrieve.\n",
    "    Hint: The first character of the name of the last page that you will load is: M\n",
    "\n",
    "Strategy\n",
    "\n",
    "The web pages tweak the height between the links and hide the page after a few seconds to make it difficult for you to do the assignment without writing a Python program. But frankly with a little effort and patience you can overcome these attempts to make it a little harder to complete the assignment without writing a Python program. But that is not the point. The point is to write a clever Python program to solve the program.\n",
    "\n",
    "Sample execution\n",
    "\n",
    "Here is a sample execution of a solution: "
   ]
  },
  {
   "cell_type": "code",
   "execution_count": 77,
   "metadata": {
    "collapsed": false
   },
   "outputs": [
    {
     "name": "stdout",
     "output_type": "stream",
     "text": [
      "Enter - https://pr4e.dr-chuck.com/tsugi/mod/python-data/data/known_by_Montgomery.html\n",
      "Retrieving https://pr4e.dr-chuck.com/tsugi/mod/python-data/data/known_by_Montgomery.html\n",
      "https://pr4e.dr-chuck.com/tsugi/mod/python-data/data/known_by_Joris.html\n",
      "Joris\n",
      "https://pr4e.dr-chuck.com/tsugi/mod/python-data/data/known_by_Lexis.html\n",
      "Lexis\n",
      "https://pr4e.dr-chuck.com/tsugi/mod/python-data/data/known_by_Mhairade.html\n",
      "Mhairade\n",
      "https://pr4e.dr-chuck.com/tsugi/mod/python-data/data/known_by_Boudicca.html\n",
      "Boudicca\n",
      "https://pr4e.dr-chuck.com/tsugi/mod/python-data/data/known_by_Anay.html\n",
      "Anay\n",
      "https://pr4e.dr-chuck.com/tsugi/mod/python-data/data/known_by_Caris.html\n",
      "Caris\n",
      "https://pr4e.dr-chuck.com/tsugi/mod/python-data/data/known_by_Emmy.html\n",
      "Emmy\n",
      "https://pr4e.dr-chuck.com/tsugi/mod/python-data/data/known_by_Anish.html\n",
      "Anish\n",
      "https://pr4e.dr-chuck.com/tsugi/mod/python-data/data/known_by_Nawfal.html\n",
      "Nawfal\n",
      "https://pr4e.dr-chuck.com/tsugi/mod/python-data/data/known_by_Jesutobiloba.html\n",
      "Jesutobiloba\n",
      "https://pr4e.dr-chuck.com/tsugi/mod/python-data/data/known_by_Sunehri.html\n",
      "Sunehri\n",
      "https://pr4e.dr-chuck.com/tsugi/mod/python-data/data/known_by_Freia.html\n",
      "Freia\n",
      "https://pr4e.dr-chuck.com/tsugi/mod/python-data/data/known_by_Rohaan.html\n",
      "Rohaan\n",
      "https://pr4e.dr-chuck.com/tsugi/mod/python-data/data/known_by_Judah.html\n",
      "Judah\n",
      "https://pr4e.dr-chuck.com/tsugi/mod/python-data/data/known_by_Rhys.html\n",
      "Rhys\n",
      "https://pr4e.dr-chuck.com/tsugi/mod/python-data/data/known_by_Cormack.html\n",
      "Cormack\n",
      "https://pr4e.dr-chuck.com/tsugi/mod/python-data/data/known_by_Jae.html\n",
      "Jae\n",
      "https://pr4e.dr-chuck.com/tsugi/mod/python-data/data/known_by_Luisa.html\n",
      "Luisa\n",
      "https://pr4e.dr-chuck.com/tsugi/mod/python-data/data/known_by_Faizaan.html\n",
      "Faizaan\n",
      "https://pr4e.dr-chuck.com/tsugi/mod/python-data/data/known_by_Vladimir.html\n",
      "Vladimir\n",
      "https://pr4e.dr-chuck.com/tsugi/mod/python-data/data/known_by_Annalee.html\n",
      "Annalee\n",
      "https://pr4e.dr-chuck.com/tsugi/mod/python-data/data/known_by_Mahdi.html\n",
      "Mahdi\n",
      "https://pr4e.dr-chuck.com/tsugi/mod/python-data/data/known_by_Lanah.html\n",
      "Lanah\n",
      "https://pr4e.dr-chuck.com/tsugi/mod/python-data/data/known_by_Amrien.html\n",
      "Amrien\n",
      "https://pr4e.dr-chuck.com/tsugi/mod/python-data/data/known_by_Francis.html\n",
      "Francis\n",
      "https://pr4e.dr-chuck.com/tsugi/mod/python-data/data/known_by_Arshita.html\n",
      "Arshita\n",
      "https://pr4e.dr-chuck.com/tsugi/mod/python-data/data/known_by_Macie.html\n",
      "Macie\n",
      "https://pr4e.dr-chuck.com/tsugi/mod/python-data/data/known_by_Qandeel.html\n",
      "Qandeel\n",
      "https://pr4e.dr-chuck.com/tsugi/mod/python-data/data/known_by_Dev.html\n",
      "Dev\n",
      "https://pr4e.dr-chuck.com/tsugi/mod/python-data/data/known_by_Alanis.html\n",
      "Alanis\n",
      "https://pr4e.dr-chuck.com/tsugi/mod/python-data/data/known_by_Swarnalakshmi.html\n",
      "Swarnalakshmi\n",
      "https://pr4e.dr-chuck.com/tsugi/mod/python-data/data/known_by_Clair.html\n",
      "Clair\n",
      "https://pr4e.dr-chuck.com/tsugi/mod/python-data/data/known_by_Bethlin.html\n",
      "Bethlin\n",
      "https://pr4e.dr-chuck.com/tsugi/mod/python-data/data/known_by_Owain.html\n",
      "Owain\n",
      "https://pr4e.dr-chuck.com/tsugi/mod/python-data/data/known_by_Dante.html\n",
      "Dante\n",
      "https://pr4e.dr-chuck.com/tsugi/mod/python-data/data/known_by_Ekhlass.html\n",
      "Ekhlass\n",
      "https://pr4e.dr-chuck.com/tsugi/mod/python-data/data/known_by_VJay.html\n",
      "VJay\n",
      "https://pr4e.dr-chuck.com/tsugi/mod/python-data/data/known_by_Moayd.html\n",
      "Moayd\n",
      "https://pr4e.dr-chuck.com/tsugi/mod/python-data/data/known_by_Samar.html\n",
      "Samar\n",
      "https://pr4e.dr-chuck.com/tsugi/mod/python-data/data/known_by_Keith.html\n",
      "Keith\n",
      "https://pr4e.dr-chuck.com/tsugi/mod/python-data/data/known_by_Todd.html\n",
      "Todd\n",
      "https://pr4e.dr-chuck.com/tsugi/mod/python-data/data/known_by_Jerome.html\n",
      "Jerome\n",
      "https://pr4e.dr-chuck.com/tsugi/mod/python-data/data/known_by_Tarik.html\n",
      "Tarik\n",
      "https://pr4e.dr-chuck.com/tsugi/mod/python-data/data/known_by_Coco.html\n",
      "Coco\n",
      "https://pr4e.dr-chuck.com/tsugi/mod/python-data/data/known_by_Keatin.html\n",
      "Keatin\n",
      "https://pr4e.dr-chuck.com/tsugi/mod/python-data/data/known_by_Dre.html\n",
      "Dre\n",
      "https://pr4e.dr-chuck.com/tsugi/mod/python-data/data/known_by_Shae.html\n",
      "Shae\n",
      "https://pr4e.dr-chuck.com/tsugi/mod/python-data/data/known_by_Muryam.html\n",
      "Muryam\n",
      "https://pr4e.dr-chuck.com/tsugi/mod/python-data/data/known_by_Olivier.html\n",
      "Olivier\n",
      "https://pr4e.dr-chuck.com/tsugi/mod/python-data/data/known_by_Tanner.html\n",
      "Tanner\n",
      "https://pr4e.dr-chuck.com/tsugi/mod/python-data/data/known_by_Sianade.html\n",
      "Sianade\n",
      "https://pr4e.dr-chuck.com/tsugi/mod/python-data/data/known_by_Ronan.html\n",
      "Ronan\n",
      "https://pr4e.dr-chuck.com/tsugi/mod/python-data/data/known_by_Ksawery.html\n",
      "Ksawery\n",
      "https://pr4e.dr-chuck.com/tsugi/mod/python-data/data/known_by_Avesta.html\n",
      "Avesta\n",
      "https://pr4e.dr-chuck.com/tsugi/mod/python-data/data/known_by_Roshni.html\n",
      "Roshni\n",
      "https://pr4e.dr-chuck.com/tsugi/mod/python-data/data/known_by_Leilah.html\n",
      "Leilah\n",
      "https://pr4e.dr-chuck.com/tsugi/mod/python-data/data/known_by_Yousif.html\n",
      "Yousif\n",
      "https://pr4e.dr-chuck.com/tsugi/mod/python-data/data/known_by_Shaiza.html\n",
      "Shaiza\n",
      "https://pr4e.dr-chuck.com/tsugi/mod/python-data/data/known_by_Nicoll.html\n",
      "Nicoll\n",
      "https://pr4e.dr-chuck.com/tsugi/mod/python-data/data/known_by_Agatha.html\n",
      "Agatha\n",
      "https://pr4e.dr-chuck.com/tsugi/mod/python-data/data/known_by_Luciano.html\n",
      "Luciano\n",
      "https://pr4e.dr-chuck.com/tsugi/mod/python-data/data/known_by_Rebecca.html\n",
      "Rebecca\n",
      "https://pr4e.dr-chuck.com/tsugi/mod/python-data/data/known_by_Calvin.html\n",
      "Calvin\n",
      "https://pr4e.dr-chuck.com/tsugi/mod/python-data/data/known_by_Orlaith.html\n",
      "Orlaith\n",
      "https://pr4e.dr-chuck.com/tsugi/mod/python-data/data/known_by_Isobella.html\n",
      "Isobella\n",
      "https://pr4e.dr-chuck.com/tsugi/mod/python-data/data/known_by_Malecia.html\n",
      "Malecia\n",
      "https://pr4e.dr-chuck.com/tsugi/mod/python-data/data/known_by_Louis.html\n",
      "Louis\n",
      "https://pr4e.dr-chuck.com/tsugi/mod/python-data/data/known_by_Kihanna.html\n",
      "Kihanna\n",
      "https://pr4e.dr-chuck.com/tsugi/mod/python-data/data/known_by_Una.html\n",
      "Una\n",
      "https://pr4e.dr-chuck.com/tsugi/mod/python-data/data/known_by_Jessamea.html\n",
      "Jessamea\n",
      "https://pr4e.dr-chuck.com/tsugi/mod/python-data/data/known_by_Samir.html\n",
      "Samir\n",
      "https://pr4e.dr-chuck.com/tsugi/mod/python-data/data/known_by_Lance.html\n",
      "Lance\n",
      "https://pr4e.dr-chuck.com/tsugi/mod/python-data/data/known_by_Tammam.html\n",
      "Tammam\n",
      "https://pr4e.dr-chuck.com/tsugi/mod/python-data/data/known_by_Celik.html\n",
      "Celik\n",
      "https://pr4e.dr-chuck.com/tsugi/mod/python-data/data/known_by_Nikolina.html\n",
      "Nikolina\n",
      "https://pr4e.dr-chuck.com/tsugi/mod/python-data/data/known_by_Kaylen.html\n",
      "Kaylen\n",
      "https://pr4e.dr-chuck.com/tsugi/mod/python-data/data/known_by_Kiegan.html\n",
      "Kiegan\n",
      "https://pr4e.dr-chuck.com/tsugi/mod/python-data/data/known_by_Gus.html\n",
      "Gus\n",
      "https://pr4e.dr-chuck.com/tsugi/mod/python-data/data/known_by_Yva.html\n",
      "Yva\n",
      "https://pr4e.dr-chuck.com/tsugi/mod/python-data/data/known_by_Neil.html\n",
      "Neil\n",
      "https://pr4e.dr-chuck.com/tsugi/mod/python-data/data/known_by_Ayshah.html\n",
      "Ayshah\n",
      "https://pr4e.dr-chuck.com/tsugi/mod/python-data/data/known_by_Brandi.html\n",
      "Brandi\n",
      "https://pr4e.dr-chuck.com/tsugi/mod/python-data/data/known_by_Annabel.html\n",
      "Annabel\n",
      "https://pr4e.dr-chuck.com/tsugi/mod/python-data/data/known_by_Elyssa.html\n",
      "Elyssa\n",
      "https://pr4e.dr-chuck.com/tsugi/mod/python-data/data/known_by_Abaigeal.html\n",
      "Abaigeal\n",
      "https://pr4e.dr-chuck.com/tsugi/mod/python-data/data/known_by_Muhsin.html\n",
      "Muhsin\n",
      "https://pr4e.dr-chuck.com/tsugi/mod/python-data/data/known_by_Faisal.html\n",
      "Faisal\n",
      "https://pr4e.dr-chuck.com/tsugi/mod/python-data/data/known_by_Sum.html\n",
      "Sum\n",
      "https://pr4e.dr-chuck.com/tsugi/mod/python-data/data/known_by_Kym.html\n",
      "Kym\n",
      "https://pr4e.dr-chuck.com/tsugi/mod/python-data/data/known_by_Sabila.html\n",
      "Sabila\n",
      "https://pr4e.dr-chuck.com/tsugi/mod/python-data/data/known_by_Eiley.html\n",
      "Eiley\n",
      "https://pr4e.dr-chuck.com/tsugi/mod/python-data/data/known_by_Kori.html\n",
      "Kori\n",
      "https://pr4e.dr-chuck.com/tsugi/mod/python-data/data/known_by_Taylor.html\n",
      "Taylor\n",
      "https://pr4e.dr-chuck.com/tsugi/mod/python-data/data/known_by_Roslin.html\n",
      "Roslin\n",
      "https://pr4e.dr-chuck.com/tsugi/mod/python-data/data/known_by_Susan.html\n",
      "Susan\n",
      "https://pr4e.dr-chuck.com/tsugi/mod/python-data/data/known_by_Sudais.html\n",
      "Sudais\n",
      "https://pr4e.dr-chuck.com/tsugi/mod/python-data/data/known_by_Philip.html\n",
      "Philip\n",
      "https://pr4e.dr-chuck.com/tsugi/mod/python-data/data/known_by_Diarmaid.html\n",
      "Diarmaid\n",
      "https://pr4e.dr-chuck.com/tsugi/mod/python-data/data/known_by_Macaulay.html\n",
      "Macaulay\n",
      "https://pr4e.dr-chuck.com/tsugi/mod/python-data/data/known_by_Aden.html\n",
      "Aden\n",
      "100\n",
      "100\n"
     ]
    }
   ],
   "source": [
    "import urllib\n",
    "import json\n",
    "import ssl\n",
    "from BeautifulSoup import *\n",
    "\n",
    "url = raw_input('Enter - ') \n",
    "\n",
    "print 'Retrieving', url\n",
    "scontext = ssl.SSLContext(ssl.PROTOCOL_TLSv1)\n",
    "uh = urllib.urlopen(url, context=scontext)\n",
    "html = uh.read()\n",
    "\n",
    "#html= urllib.urlopen(url).read() #reads the entire webpage\n",
    "soup=BeautifulSoup(html) #parse webpage\n",
    "tags=soup('a')\n",
    "\n",
    "sum1=0\n",
    "count=0\n",
    "lst=[]\n",
    "for tag in tags:\n",
    "    print tag.get('href', None)\n",
    "        #print tag.contents[0]\n",
    "    print tag.contents[0]\n",
    "    count+=1\n",
    "    lst.append((tag.contents[0],tag.get('href', None)))\n",
    "\n",
    "print len(lst)\n",
    "print count"
   ]
  },
  {
   "cell_type": "code",
   "execution_count": 76,
   "metadata": {
    "collapsed": false
   },
   "outputs": [
    {
     "data": {
      "text/plain": [
       "(u'Montgomery',\n",
       " u'https://pr4e.dr-chuck.com/tsugi/mod/python-data/data/known_by_Montgomery.html')"
      ]
     },
     "execution_count": 76,
     "metadata": {},
     "output_type": "execute_result"
    }
   ],
   "source": [
    "lst[2]"
   ]
  },
  {
   "cell_type": "code",
   "execution_count": 78,
   "metadata": {
    "collapsed": false
   },
   "outputs": [
    {
     "data": {
      "text/plain": [
       "(u'Mhairade',\n",
       " u'https://pr4e.dr-chuck.com/tsugi/mod/python-data/data/known_by_Mhairade.html')"
      ]
     },
     "execution_count": 78,
     "metadata": {},
     "output_type": "execute_result"
    }
   ],
   "source": [
    "lst[2]"
   ]
  },
  {
   "cell_type": "markdown",
   "metadata": {},
   "source": [
    "## Writing a funciton"
   ]
  },
  {
   "cell_type": "code",
   "execution_count": 98,
   "metadata": {
    "collapsed": false,
    "scrolled": true
   },
   "outputs": [
    {
     "name": "stdout",
     "output_type": "stream",
     "text": [
      "https://pr4e.dr-chuck.com/tsugi/mod/python-data/data/known_by_Meghan.html Meghan\n",
      "https://pr4e.dr-chuck.com/tsugi/mod/python-data/data/known_by_Martyna.html Martyna\n",
      "https://pr4e.dr-chuck.com/tsugi/mod/python-data/data/known_by_Annalisa.html Annalisa\n",
      "https://pr4e.dr-chuck.com/tsugi/mod/python-data/data/known_by_Darwyn.html Darwyn\n",
      "https://pr4e.dr-chuck.com/tsugi/mod/python-data/data/known_by_Shreeram.html Shreeram\n",
      "https://pr4e.dr-chuck.com/tsugi/mod/python-data/data/known_by_Sanjay.html Sanjay\n",
      "https://pr4e.dr-chuck.com/tsugi/mod/python-data/data/known_by_Mira.html Mira\n"
     ]
    }
   ],
   "source": [
    "import urllib\n",
    "import json\n",
    "import ssl\n",
    "from BeautifulSoup import *\n",
    "\n",
    "def extract_url(url_string):\n",
    "\n",
    "\n",
    "    url = url_string.strip()\n",
    "\n",
    "    #print 'Retrieving', url\n",
    "    scontext = ssl.SSLContext(ssl.PROTOCOL_TLSv1)\n",
    "    uh = urllib.urlopen(url, context=scontext)\n",
    "    html = uh.read()\n",
    "\n",
    "    #html= urllib.urlopen(url).read() #reads the entire webpage\n",
    "    soup=BeautifulSoup(html) #parse webpage\n",
    "    tags=soup('a')\n",
    "\n",
    "    sum1=0\n",
    "    count=0\n",
    "    lst=[]\n",
    "    for tag in tags:\n",
    "        #print tag.get('href', None)\n",
    "            #print tag.contents[0]\n",
    "        #print tag.contents[0]\n",
    "        count+=1\n",
    "        lst.append((tag.contents[0],tag.get('href', None)))\n",
    "\n",
    "    #print len(lst)\n",
    "    \n",
    "    #print count\n",
    "    return lst\n",
    "\n",
    "#data = extract_url()\n",
    "link='https://pr4e.dr-chuck.com/tsugi/mod/python-data/data/known_by_Nikki.html'\n",
    "for i in range(7):\n",
    "    data = extract_url(link)\n",
    "    name, link=data[17]\n",
    "    #data = extract_url(link)\n",
    "    print link, name\n",
    "\n"
   ]
  },
  {
   "cell_type": "code",
   "execution_count": null,
   "metadata": {
    "collapsed": true
   },
   "outputs": [],
   "source": []
  }
 ],
 "metadata": {
  "kernelspec": {
   "display_name": "Python 2",
   "language": "python",
   "name": "python2"
  },
  "language_info": {
   "codemirror_mode": {
    "name": "ipython",
    "version": 2
   },
   "file_extension": ".py",
   "mimetype": "text/x-python",
   "name": "python",
   "nbconvert_exporter": "python",
   "pygments_lexer": "ipython2",
   "version": "2.7.10"
  }
 },
 "nbformat": 4,
 "nbformat_minor": 0
}
