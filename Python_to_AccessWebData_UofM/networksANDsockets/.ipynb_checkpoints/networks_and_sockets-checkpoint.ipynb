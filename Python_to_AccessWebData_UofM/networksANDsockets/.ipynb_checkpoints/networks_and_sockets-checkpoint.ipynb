{
 "cells": [
  {
   "cell_type": "code",
   "execution_count": null,
   "metadata": {
    "collapsed": true
   },
   "outputs": [],
   "source": [
    "#Networks and sockets"
   ]
  },
  {
   "cell_type": "code",
   "execution_count": 2,
   "metadata": {
    "collapsed": true
   },
   "outputs": [],
   "source": [
    "import socket\n",
    "mysock=socket.socket(socket.AF_INET, socket.SOCK_STREAM)# internet and stream socket\n",
    "mysock.connect(('www.py4inf.com',80))"
   ]
  },
  {
   "cell_type": "code",
   "execution_count": 12,
   "metadata": {
    "collapsed": false,
    "scrolled": true
   },
   "outputs": [
    {
     "data": {
      "text/plain": [
       "0"
      ]
     },
     "execution_count": 12,
     "metadata": {},
     "output_type": "execute_result"
    }
   ],
   "source": [
    "import os\n",
    "os.system('telnet www.dr-chuck.com 80')\n",
    "#from subprocess import check_output\n",
    "#check_output(\"telnet\", shell=True)"
   ]
  },
  {
   "cell_type": "raw",
   "metadata": {
    "collapsed": true
   },
   "source": [
    "telnet www.dr-chuck.com 80\n",
    "GET http://www.dr-chuck.com/page1.htm HTTP/1.0 #hit enter twice\n",
    "\n",
    "andriy@xps8700 ~\n",
    "$ telnet www.dr-chuck.com 80\n",
    "Trying 198.251.66.43...\n",
    "Connected to www.dr-chuck.com.\n",
    "Escape character is '^]'.\n",
    "GET http://www.dr-chuck.com/page1.htm HTTP/1.0\n",
    "\n",
    "HTTP/1.1 200 OK\n",
    "Date: Sun, 27 Dec 2015 08:18:25 GMT\n",
    "Server: Apache\n",
    "Last-Modified: Sun, 19 Jan 2014 14:25:43 GMT\n",
    "ETag: \"49c08048-83-4f0538cdba7c0\"\n",
    "Accept-Ranges: bytes\n",
    "Content-Length: 131\n",
    "Connection: close\n",
    "Content-Type: text/html\n",
    "\n",
    "<h1>The First Page</h1>\n",
    "<p>\n",
    "If you like, you can switch to the\n",
    "<a href=\"http://www.dr-chuck.com/page2.htm\">\n",
    "Second Page</a>.\n",
    "</p>\n",
    "Connection closed by foreign host.\n"
   ]
  },
  {
   "cell_type": "markdown",
   "metadata": {},
   "source": [
    "##A very simple web browser"
   ]
  },
  {
   "cell_type": "code",
   "execution_count": 13,
   "metadata": {
    "collapsed": false
   },
   "outputs": [
    {
     "data": {
      "text/plain": [
       "51"
      ]
     },
     "execution_count": 13,
     "metadata": {},
     "output_type": "execute_result"
    }
   ],
   "source": [
    "mysock=socket.socket(socket.AF_INET, socket.SOCK_STREAM)# internet and stream socket\n",
    "mysock.connect(('www.py4inf.com',80))\n",
    "\n",
    "mysock.send('GET http://www.py4inf.com/code/romeo.txt HTTP/1.0\\n\\n')"
   ]
  },
  {
   "cell_type": "code",
   "execution_count": 14,
   "metadata": {
    "collapsed": false
   },
   "outputs": [
    {
     "name": "stdout",
     "output_type": "stream",
     "text": [
      "HTTP/1.1 200 OK\r\n",
      "Date: Sun, 27 Dec 2015 08:44:38 GMT\r\n",
      "Server: Apache\r\n",
      "Last-Modified: Fri, 04 Dec 2015 19:05:04 GMT\r\n",
      "ETag: \"e103c2f4-a7-526172f5b5d89\"\r\n",
      "Accept-Ranges: bytes\r\n",
      "Content-Length: 167\r\n",
      "Cache-Control: max-age=604800, public\r\n",
      "Access-Control-Allow-Origin: *\r\n",
      "Access-Control-Allow-Headers: origin, x-requested-with, content-type\r\n",
      "Access-Control-Allow-Methods: GET\r\n",
      "Connection: close\r\n",
      "Content-Type: text/plain\r\n",
      "\r\n",
      "But soft what light through yonder window breaks\n",
      "It is the east and Juliet is the sun\n",
      "Arise fai\n",
      "**************** 1\n",
      "r sun and kill the envious moon\n",
      "Who is already sick and pale with grief\n",
      "\n",
      "**************** 2\n"
     ]
    }
   ],
   "source": [
    "count=0\n",
    "while True:\n",
    "    data=mysock.recv(512)\n",
    "    if (len(data)<1):\n",
    "        break\n",
    "    print data\n",
    "    count+=1\n",
    "    print '****************',count\n",
    "mysock.close()"
   ]
  },
  {
   "cell_type": "markdown",
   "metadata": {
    "collapsed": true
   },
   "source": [
    "##Using application-level library urllib"
   ]
  },
  {
   "cell_type": "code",
   "execution_count": 15,
   "metadata": {
    "collapsed": false
   },
   "outputs": [
    {
     "name": "stdout",
     "output_type": "stream",
     "text": [
      "But soft what light through yonder window breaks\n",
      "It is the east and Juliet is the sun\n",
      "Arise fair sun and kill the envious moon\n",
      "Who is already sick and pale with grief\n"
     ]
    }
   ],
   "source": [
    "import urllib\n",
    "fhand=urllib.urlopen('http://www.py4inf.com/code/romeo.txt')\n",
    "for line in fhand:\n",
    "    print line.strip()"
   ]
  },
  {
   "cell_type": "code",
   "execution_count": 27,
   "metadata": {
    "collapsed": false
   },
   "outputs": [
    {
     "name": "stdout",
     "output_type": "stream",
     "text": [
      "{'and': 3, 'envious': 1, 'already': 1, 'fair': 1, 'is': 3, 'through': 1, 'pale': 1, 'yonder': 1, 'what': 1, 'sun': 2, 'Who': 1, 'But': 1, 'moon': 1, 'window': 1, 'sick': 1, 'east': 1, 'breaks': 1, 'grief': 1, 'with': 1, 'light': 1, 'It': 1, 'Arise': 1, 'kill': 1, 'the': 3, 'soft': 1, 'Juliet': 1}\n",
      "[('and', 3), ('is', 3), ('the', 3), ('sun', 2), ('envious', 1), ('already', 1), ('fair', 1), ('through', 1), ('pale', 1), ('yonder', 1), ('what', 1), ('Who', 1), ('But', 1), ('moon', 1), ('window', 1), ('sick', 1), ('east', 1), ('breaks', 1), ('grief', 1), ('with', 1), ('light', 1), ('It', 1), ('Arise', 1), ('kill', 1), ('soft', 1), ('Juliet', 1)]\n"
     ]
    }
   ],
   "source": [
    "import urllib\n",
    "fhand=urllib.urlopen('http://www.py4inf.com/code/romeo.txt')\n",
    "\n",
    "\n",
    "counts=dict()\n",
    "for line in fhand:\n",
    "    words=line.split()\n",
    "    for word in words:\n",
    "        counts[word]=counts.get(word,0)+1\n",
    "import operator\n",
    "print counts\n",
    "sorted_x = sorted(counts.items(), key=operator.itemgetter(1), reverse=True)\n",
    "print sorted_x"
   ]
  },
  {
   "cell_type": "markdown",
   "metadata": {},
   "source": [
    "##Assignment"
   ]
  },
  {
   "cell_type": "raw",
   "metadata": {},
   "source": [
    "Welcome ANDRIY SHEREMET from Using Python to Access Web Data\n",
    "\n",
    "Exploring the HyperText Transport Protocol\n",
    "\n",
    "You are to retrieve the following document using the HTTP protocol in a way that you can examine the HTTP Response headers.\n",
    "\n",
    "    http://www.pythonlearn.com/code/intro-short.txt\n",
    "\n",
    "There are three ways that you might retrieve this web page and look at the response headers:\n",
    "\n",
    "    Preferred: Modify the socket1.py program to retrieve the above URL and print out the headers and data.\n",
    "    Open the URL in a web browser with a developer console or FireBug and manually examine the headers that are returned.\n",
    "    Use the telnet program as shown in lecture to retrieve the headers and content.\n",
    "\n",
    "Enter the header values in each of the fields below and press \"Submit\". "
   ]
  },
  {
   "cell_type": "code",
   "execution_count": 30,
   "metadata": {
    "collapsed": false
   },
   "outputs": [
    {
     "name": "stdout",
     "output_type": "stream",
     "text": [
      "HTTP/1.1 200 OK\r\n",
      "Date: Sun, 27 Dec 2015 09:14:23 GMT\r\n",
      "Server: Apache\r\n",
      "Last-Modified: Mon, 12 Oct 2015 14:55:29 GMT\r\n",
      "ETag: \"20f7401b-1d3-521e9853a392b\"\r\n",
      "Accept-Ranges: bytes\r\n",
      "Content-Length: 467\r\n",
      "Cache-Control: max-age=604800, public\r\n",
      "Access-Control-Allow-Origin: *\r\n",
      "Access-Control-Allow-Headers: origin, x-requested-with, content-type\r\n",
      "Access-Control-Allow-Methods: GET\r\n",
      "Connection: close\r\n",
      "Content-Type: text/plain\r\n",
      "\r\n",
      "Why should you learn to write programs?\n",
      "\n",
      "Writing programs (or programming) is a very creative \n",
      "**************** 1\n",
      "\n",
      "and rewarding activity.  You can write programs for \n",
      "many reasons, ranging from making your living to solving\n",
      "a difficult data analysis problem to having fun to helping\n",
      "someone else solve a problem.  This book assumes that \n",
      "everyone needs to know how to program, and that once \n",
      "you know how to program you will figure out what you want \n",
      "to do with your newfound skills.  \n",
      "\n",
      "**************** 2\n"
     ]
    }
   ],
   "source": [
    "mysock=socket.socket(socket.AF_INET, socket.SOCK_STREAM)# internet and stream socket\n",
    "mysock.connect(('www.pythonlearn.com',80))\n",
    "\n",
    "mysock.send('GET http://www.pythonlearn.com/code/intro-short.txt HTTP/1.0\\n\\n')\n",
    "count=0\n",
    "while True:\n",
    "    data=mysock.recv(512)\n",
    "    if (len(data)<1):\n",
    "        break\n",
    "    print data\n",
    "    count+=1\n",
    "    print '****************',count\n",
    "mysock.close()"
   ]
  },
  {
   "cell_type": "code",
   "execution_count": null,
   "metadata": {
    "collapsed": true
   },
   "outputs": [],
   "source": []
  },
  {
   "cell_type": "code",
   "execution_count": null,
   "metadata": {
    "collapsed": true
   },
   "outputs": [],
   "source": []
  }
 ],
 "metadata": {
  "kernelspec": {
   "display_name": "Python 2",
   "language": "python",
   "name": "python2"
  },
  "language_info": {
   "codemirror_mode": {
    "name": "ipython",
    "version": 2
   },
   "file_extension": ".py",
   "mimetype": "text/x-python",
   "name": "python",
   "nbconvert_exporter": "python",
   "pygments_lexer": "ipython2",
   "version": "2.7.10"
  }
 },
 "nbformat": 4,
 "nbformat_minor": 0
}
