{
 "cells": [
  {
   "cell_type": "markdown",
   "metadata": {},
   "source": [
    "# XML parsing"
   ]
  },
  {
   "cell_type": "markdown",
   "metadata": {},
   "source": [
    " \n",
    " * <http://xmlprettyprint.com/>\n",
    " * <https://en.wikipedia.org/wiki/ISO_8601>\n",
    " * <https://en.wikipedia.org/wiki/Coordinated_Universal_Time>"
   ]
  },
  {
   "cell_type": "code",
   "execution_count": 1,
   "metadata": {
    "collapsed": true
   },
   "outputs": [],
   "source": [
    "import xml.etree.ElementTree as ET"
   ]
  },
  {
   "cell_type": "code",
   "execution_count": 10,
   "metadata": {
    "collapsed": false
   },
   "outputs": [
    {
     "name": "stdout",
     "output_type": "stream",
     "text": [
      "<Element 'person' at 0x3b4a828>\n",
      "<Element 'name' at 0x3b4afd0>\n",
      "<Element 'phone' at 0x3b75320>\n",
      "<Element 'email' at 0x3b75358>\n",
      "<Element 'name' at 0x3b75390>\n",
      "Chuck\n",
      "Andriy\n",
      "Name: Chuck\n",
      "Attr: yes\n"
     ]
    }
   ],
   "source": [
    "#ET built-in xml parser: element tree library: de-serialization\n",
    "\n",
    "data = '''\n",
    "<person>\n",
    "  <name>Chuck</name>\n",
    "  <phone type=\"intl\">\n",
    "     +1 734 303 4456\n",
    "   </phone>\n",
    "   <email hide=\"yes\"/>\n",
    "   <name>Andriy</name>\n",
    "</person>'''\n",
    "\n",
    "tree = ET.fromstring(data)\n",
    "print tree\n",
    "for element in tree:\n",
    "    print element\n",
    "name= tree.findall('name')\n",
    "for i in name:\n",
    "    print i.text\n",
    "print 'Name:',tree.find('name').text\n",
    "print 'Attr:',tree.find('email').get('hide')"
   ]
  },
  {
   "cell_type": "markdown",
   "metadata": {},
   "source": [
    "## Looking for a list of things"
   ]
  },
  {
   "cell_type": "code",
   "execution_count": 28,
   "metadata": {
    "collapsed": false
   },
   "outputs": [
    {
     "name": "stdout",
     "output_type": "stream",
     "text": [
      "User count: 2\n",
      "Name Chuck\n",
      "Id 001\n",
      "Attribute 2\n",
      "Name Brent\n",
      "Id 009\n",
      "Attribute 7\n"
     ]
    }
   ],
   "source": [
    "\n",
    "input = '''\n",
    "<stuff>\n",
    "    <users>\n",
    "        <user x=\"2\">\n",
    "            <id>001</id>\n",
    "            <name>Chuck</name>\n",
    "        </user>\n",
    "        <user x=\"7\">\n",
    "            <id>009</id>\n",
    "            <name>Brent</name>\n",
    "            </user>\n",
    "        </users>\n",
    "</stuff>'''\n",
    "\n",
    "stuff = ET.fromstring(input)\n",
    "lst = stuff.findall('users/user')\n",
    "print 'User count:', len(lst)\n",
    "\n",
    "\n",
    "\n",
    "for item in lst:\n",
    "    print 'Name', item.find('name').text\n",
    "    print 'Id', item.find('id').text\n",
    "    print 'Attribute', item.get(\"x\")"
   ]
  },
  {
   "cell_type": "markdown",
   "metadata": {},
   "source": [
    "## Assignment"
   ]
  },
  {
   "cell_type": "code",
   "execution_count": 2,
   "metadata": {
    "collapsed": true
   },
   "outputs": [],
   "source": [
    "import urllib\n",
    "import xml.etree.ElementTree as ET\n",
    "\n",
    "#serviceurl = 'http://python-data.dr-chuck.net/comments_42.xml'"
   ]
  },
  {
   "cell_type": "code",
   "execution_count": 3,
   "metadata": {
    "collapsed": false
   },
   "outputs": [
    {
     "name": "stdout",
     "output_type": "stream",
     "text": [
      "Enter location: http://python-data.dr-chuck.net/comments_42.xml\n",
      "Retrieving http://python-data.dr-chuck.net/comments_42.xml\n",
      "Retrieved 4204 characters\n",
      "Count: 50\n",
      "Sum: 2482\n"
     ]
    }
   ],
   "source": [
    "finished = False\n",
    "while not finished:\n",
    "    address = raw_input('Enter location: ')\n",
    "    if len(address) < 1 : break\n",
    "\n",
    "    url = address\n",
    "    print 'Retrieving', url\n",
    "    uh = urllib.urlopen(url)\n",
    "    data = uh.read()\n",
    "    print 'Retrieved',len(data),'characters'\n",
    "    #print data\n",
    "    tree = ET.fromstring(data)\n",
    "    lst=tree.findall('comments/comment')\n",
    "    print 'Count:',len(lst)\n",
    "    count=0\n",
    "    for item in lst:\n",
    "        count_item=int(item.find('count').text)\n",
    "        #print count_item\n",
    "        count+=count_item\n",
    "    print 'Sum:',count\n",
    "    \n",
    "    finished=True\n",
    "\n",
    "\n",
    "\n",
    "\n"
   ]
  },
  {
   "cell_type": "code",
   "execution_count": null,
   "metadata": {
    "collapsed": true
   },
   "outputs": [],
   "source": []
  }
 ],
 "metadata": {
  "kernelspec": {
   "display_name": "Python 2",
   "language": "python",
   "name": "python2"
  },
  "language_info": {
   "codemirror_mode": {
    "name": "ipython",
    "version": 2
   },
   "file_extension": ".py",
   "mimetype": "text/x-python",
   "name": "python",
   "nbconvert_exporter": "python",
   "pygments_lexer": "ipython2",
   "version": "2.7.10"
  }
 },
 "nbformat": 4,
 "nbformat_minor": 0
}
