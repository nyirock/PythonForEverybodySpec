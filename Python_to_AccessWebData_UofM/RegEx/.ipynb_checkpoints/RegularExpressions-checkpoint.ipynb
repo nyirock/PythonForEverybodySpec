{
 "cells": [
  {
   "cell_type": "markdown",
   "metadata": {},
   "source": [
    "#Regular Expressions\n",
    "##Printing a line containing a target: find() vs re.search()"
   ]
  },
  {
   "cell_type": "markdown",
   "metadata": {},
   "source": [
    "###Python Regular Expression Quick Guide\n",
    "\n",
    "\\^        Matches the beginning of a line\n",
    "\n",
    "\\$        Matches the end of the line\n",
    "\n",
    "\\.        Matches any character\n",
    "\n",
    "\\\\s       Matches whitespace\n",
    "\n",
    "\\\\S       Matches any non-whitespace character\n",
    "\n",
    "\\*        Repeats a character zero or more times\n",
    "\n",
    "\\*?       Repeats a character zero or more times \n",
    "         (non-greedy)\n",
    "         \n",
    "\\+        Repeats a character one or more times\n",
    "\n",
    "\\+?       Repeats a character one or more times \n",
    "         (non-greedy)\n",
    "         \n",
    "\\[aeiou]  Matches a single character in the listed set\n",
    "\n",
    "\\[^XYZ]   Matches a single character not in the listed set\n",
    "\n",
    "\\[a-z0-9] The set of characters can include a range\n",
    "\n",
    "\\(        Indicates where string extraction is to start\n",
    "\n",
    "\\)        Indicates where string extraction is to end\"\n"
   ]
  },
  {
   "cell_type": "code",
   "execution_count": 1,
   "metadata": {
    "collapsed": false
   },
   "outputs": [
    {
     "name": "stdout",
     "output_type": "stream",
     "text": [
      "From: stephen.marquard@uct.ac.za\n",
      "From: louis@media.berkeley.edu\n",
      "From: zqian@umich.edu\n",
      "From: rjlowe@iupui.edu\n",
      "From: zqian@umich.edu\n",
      "From: rjlowe@iupui.edu\n",
      "From: cwen@iupui.edu\n",
      "From: cwen@iupui.edu\n",
      "From: gsilver@umich.edu\n",
      "From: gsilver@umich.edu\n",
      "From: zqian@umich.edu\n",
      "From: gsilver@umich.edu\n",
      "From: wagnermr@iupui.edu\n",
      "From: zqian@umich.edu\n",
      "From: antranig@caret.cam.ac.uk\n",
      "From: gopal.ramasammycook@gmail.com\n",
      "From: david.horwitz@uct.ac.za\n",
      "From: david.horwitz@uct.ac.za\n",
      "From: david.horwitz@uct.ac.za\n",
      "From: david.horwitz@uct.ac.za\n",
      "From: stephen.marquard@uct.ac.za\n",
      "From: louis@media.berkeley.edu\n",
      "From: louis@media.berkeley.edu\n",
      "From: ray@media.berkeley.edu\n",
      "From: cwen@iupui.edu\n",
      "From: cwen@iupui.edu\n",
      "From: cwen@iupui.edu\n",
      "27\n",
      "*********************\n",
      "From: stephen.marquard@uct.ac.za\n",
      "From: louis@media.berkeley.edu\n",
      "From: zqian@umich.edu\n",
      "From: rjlowe@iupui.edu\n",
      "From: zqian@umich.edu\n",
      "From: rjlowe@iupui.edu\n",
      "From: cwen@iupui.edu\n",
      "From: cwen@iupui.edu\n",
      "From: gsilver@umich.edu\n",
      "From: gsilver@umich.edu\n",
      "From: zqian@umich.edu\n",
      "From: gsilver@umich.edu\n",
      "From: wagnermr@iupui.edu\n",
      "From: zqian@umich.edu\n",
      "From: antranig@caret.cam.ac.uk\n",
      "From: gopal.ramasammycook@gmail.com\n",
      "From: david.horwitz@uct.ac.za\n",
      "From: david.horwitz@uct.ac.za\n",
      "From: david.horwitz@uct.ac.za\n",
      "From: david.horwitz@uct.ac.za\n",
      "From: stephen.marquard@uct.ac.za\n",
      "From: louis@media.berkeley.edu\n",
      "From: louis@media.berkeley.edu\n",
      "From: ray@media.berkeley.edu\n",
      "From: cwen@iupui.edu\n",
      "From: cwen@iupui.edu\n",
      "From: cwen@iupui.edu\n",
      "27\n"
     ]
    }
   ],
   "source": [
    "\n",
    "\n",
    "#Normal code implementation\n",
    "hand=open('mbox-short.txt')\n",
    "count=0\n",
    "for line in  hand:\n",
    "    line=line.rstrip()\n",
    "    if line.find('From:')>=0:\n",
    "        print line\n",
    "        count+=1\n",
    "print count\n",
    "\n",
    "print '*********************'\n",
    "\n",
    "#Using regular expressions instead\n",
    "import re\n",
    "count=0\n",
    "hand=open('mbox-short.txt')\n",
    "for line in hand:\n",
    "    line = line.rstrip()\n",
    "    if re.search('From:', line):\n",
    "        print line\n",
    "        count+=1\n",
    "print count"
   ]
  },
  {
   "cell_type": "markdown",
   "metadata": {
    "collapsed": true
   },
   "source": [
    "##If we want to look from the beginning only"
   ]
  },
  {
   "cell_type": "code",
   "execution_count": 2,
   "metadata": {
    "collapsed": false
   },
   "outputs": [
    {
     "name": "stdout",
     "output_type": "stream",
     "text": [
      "From: stephen.marquard@uct.ac.za\n",
      "From: louis@media.berkeley.edu\n",
      "From: zqian@umich.edu\n",
      "From: rjlowe@iupui.edu\n",
      "From: zqian@umich.edu\n",
      "From: rjlowe@iupui.edu\n",
      "From: cwen@iupui.edu\n",
      "From: cwen@iupui.edu\n",
      "From: gsilver@umich.edu\n",
      "From: gsilver@umich.edu\n",
      "From: zqian@umich.edu\n",
      "From: gsilver@umich.edu\n",
      "From: wagnermr@iupui.edu\n",
      "From: zqian@umich.edu\n",
      "From: antranig@caret.cam.ac.uk\n",
      "From: gopal.ramasammycook@gmail.com\n",
      "From: david.horwitz@uct.ac.za\n",
      "From: david.horwitz@uct.ac.za\n",
      "From: david.horwitz@uct.ac.za\n",
      "From: david.horwitz@uct.ac.za\n",
      "From: stephen.marquard@uct.ac.za\n",
      "From: louis@media.berkeley.edu\n",
      "From: louis@media.berkeley.edu\n",
      "From: ray@media.berkeley.edu\n",
      "From: cwen@iupui.edu\n",
      "From: cwen@iupui.edu\n",
      "From: cwen@iupui.edu\n",
      "27\n",
      "*********************\n",
      "From: stephen.marquard@uct.ac.za\n",
      "From: louis@media.berkeley.edu\n",
      "From: zqian@umich.edu\n",
      "From: rjlowe@iupui.edu\n",
      "From: zqian@umich.edu\n",
      "From: rjlowe@iupui.edu\n",
      "From: cwen@iupui.edu\n",
      "From: cwen@iupui.edu\n",
      "From: gsilver@umich.edu\n",
      "From: gsilver@umich.edu\n",
      "From: zqian@umich.edu\n",
      "From: gsilver@umich.edu\n",
      "From: wagnermr@iupui.edu\n",
      "From: zqian@umich.edu\n",
      "From: antranig@caret.cam.ac.uk\n",
      "From: gopal.ramasammycook@gmail.com\n",
      "From: david.horwitz@uct.ac.za\n",
      "From: david.horwitz@uct.ac.za\n",
      "From: david.horwitz@uct.ac.za\n",
      "From: david.horwitz@uct.ac.za\n",
      "From: stephen.marquard@uct.ac.za\n",
      "From: louis@media.berkeley.edu\n",
      "From: louis@media.berkeley.edu\n",
      "From: ray@media.berkeley.edu\n",
      "From: cwen@iupui.edu\n",
      "From: cwen@iupui.edu\n",
      "From: cwen@iupui.edu\n",
      "27\n"
     ]
    }
   ],
   "source": [
    "import re\n",
    "\n",
    "\n",
    "hand=open('mbox-short.txt')\n",
    "count=0\n",
    "for line in  hand:\n",
    "    line=line.rstrip()\n",
    "    if line.startswith('From:'):\n",
    "        print line\n",
    "        count+=1\n",
    "print count\n",
    "print '*********************'\n",
    "count=0\n",
    "hand=open('mbox-short.txt')\n",
    "for line in hand:\n",
    "    line = line.rstrip()\n",
    "    if re.search('^From:', line):\n",
    "        print line\n",
    "        count+=1\n",
    "print count"
   ]
  },
  {
   "cell_type": "code",
   "execution_count": 29,
   "metadata": {
    "collapsed": false
   },
   "outputs": [
    {
     "name": "stdout",
     "output_type": "stream",
     "text": [
      "X-text:hehehe\n"
     ]
    }
   ],
   "source": [
    "txt=['X','X-text:hehehe','hehe-text:X','X :text', 'X-: he he text', 'X- hehehe:haha']\n",
    "import re\n",
    "#* means ANY number of characters including zero\n",
    "for i in txt:\n",
    "    #if re.search('^X.*:', i):\n",
    "\n",
    "    #if re.search('^X-.*:', i):\n",
    "    #if re.search('^X-\\S*:', i):#the same output as above\n",
    "    if re.search('^X-\\S+:', i):#more than one non blank character\n",
    "        print i"
   ]
  },
  {
   "cell_type": "markdown",
   "metadata": {},
   "source": [
    "##Matching and Extracting Data: re.findall\n",
    "plus a bit fancy matching of repeated characters \n",
    "<http://stackoverflow.com/questions/1660694/regular-expression-to-match-any-character-being-repeated-more-than-10-times>\n",
    "And this one\n",
    " <http://stackoverflow.com/questions/6507982/regex-to-find-repeating-numbers>"
   ]
  },
  {
   "cell_type": "code",
   "execution_count": 76,
   "metadata": {
    "collapsed": false
   },
   "outputs": [
    {
     "name": "stdout",
     "output_type": "stream",
     "text": [
      "['99', '22', '333']\n",
      "['99', '333']\n",
      "['2', '99', '422', '333', '1']\n",
      "['a', 'a', '9', '2', '3']\n",
      "['99', '42', '33']\n",
      "['9', '2', '3']\n",
      "[('9', '9'), ('3', '33')]\n"
     ]
    }
   ],
   "source": [
    "import re\n",
    "#re.findall actually extracts data, re.search returns True/False\n",
    "x='aa My 2 aaa favorite numbers are 99 and 422 333 1'\n",
    "y=re.findall('[0-9]+',x)\n",
    "yyy=re.findall(r'(.)\\1',x)#this is fancy :) (.)\\1{9,} - this maches 2 ANY repeated characters\n",
    "#two any digits ^[0-9]{2}$\n",
    "yyyy=re.findall('[0-9]{2}',x) #() denotes what to extract\n",
    "#\\b(\\d)\\1+\\b \\d -matches a digit\n",
    "yz=re.findall(r'(\\d)\\1+',x)\n",
    "yzz=re.findall(r'\\b(\\d)(\\1+)\\b',x)\n",
    "#yzz=re.findall(r'\\b(\\d)(\\1{1,})\\b',x) the same as \\1+\n",
    "#without word boundary\n",
    "yzyz=[''.join(item) for item in re.findall(r'(\\d)(\\1{1,})',x)]#nice one-liner\n",
    "print yzyz\n",
    "joined=[''.join(i) for i in yzz]\n",
    "print joined\n",
    "print y\n",
    "print yyy\n",
    "print yyyy\n",
    "print yz\n",
    "print yzz"
   ]
  },
  {
   "cell_type": "markdown",
   "metadata": {},
   "source": [
    "\n",
    "##Greedy vs non Greedy\n",
    "##! Also ? - means 0 or one, so that's how it probably works"
   ]
  },
  {
   "cell_type": "code",
   "execution_count": 106,
   "metadata": {
    "collapsed": false
   },
   "outputs": [
    {
     "name": "stdout",
     "output_type": "stream",
     "text": [
      "['From: Using the:'] ->Gredy\n",
      "['From:'] ->non Greedy\n",
      "['From']\n"
     ]
    }
   ],
   "source": [
    "import re\n",
    "x='From: Using the: character '\n",
    "xx='Fro: hehe'\n",
    "y=re.findall('^F.+:',x)\n",
    "yy=re.findall('^F.+?:',x)\n",
    "yyy=re.findall('^F[^:]+',x)#match any character after F but not \":\"\n",
    "print y, \"->Gredy\"\n",
    "print yy, \"->non Greedy\"\n",
    "print yyy"
   ]
  },
  {
   "cell_type": "markdown",
   "metadata": {
    "collapsed": true
   },
   "source": [
    "#Fine-Tuning String Extraction\n",
    "From stephen.marquard@uct.ac.za Sat Jan 5 09:14:16 2008"
   ]
  },
  {
   "cell_type": "code",
   "execution_count": 20,
   "metadata": {
    "collapsed": false
   },
   "outputs": [
    {
     "name": "stdout",
     "output_type": "stream",
     "text": [
      "False\n",
      "336\n",
      "336\n",
      "336\n"
     ]
    }
   ],
   "source": [
    "import re\n",
    "count=0\n",
    "hand=open('mbox-short.txt')\n",
    "txt=hand.read()\n",
    "y=re.findall('\\S+@\\S+',txt)\n",
    "yy=re.findall(r'([^\\s]+@[^\\s]+)',txt)\n",
    "yyy=re.findall(r'\\b\\S+@\\S+\\b',txt)\n",
    "print yyy==y\n",
    "print len(y)\n",
    "print len(yy)\n",
    "print len(yyy)"
   ]
  },
  {
   "cell_type": "markdown",
   "metadata": {
    "collapsed": true
   },
   "source": [
    "## the @ lines that start with From"
   ]
  },
  {
   "cell_type": "code",
   "execution_count": 43,
   "metadata": {
    "collapsed": false
   },
   "outputs": [
    {
     "name": "stdout",
     "output_type": "stream",
     "text": [
      "['stephen.marquard@uct.ac.za']\n",
      "From stephen.marquard@uct.ac.za Sat Jan  5 09:14:16 2008\n",
      "\n",
      "['louis@media.berkeley.edu']\n",
      "From louis@media.berkeley.edu Fri Jan  4 18:10:48 2008\n",
      "\n",
      "['zqian@umich.edu']\n",
      "From zqian@umich.edu Fri Jan  4 16:10:39 2008\n",
      "\n",
      "['rjlowe@iupui.edu']\n",
      "From rjlowe@iupui.edu Fri Jan  4 15:46:24 2008\n",
      "\n",
      "['zqian@umich.edu']\n",
      "From zqian@umich.edu Fri Jan  4 15:03:18 2008\n",
      "\n",
      "['rjlowe@iupui.edu']\n",
      "From rjlowe@iupui.edu Fri Jan  4 14:50:18 2008\n",
      "\n",
      "['cwen@iupui.edu']\n",
      "From cwen@iupui.edu Fri Jan  4 11:37:30 2008\n",
      "\n",
      "['cwen@iupui.edu']\n",
      "From cwen@iupui.edu Fri Jan  4 11:35:08 2008\n",
      "\n",
      "['gsilver@umich.edu']\n",
      "From gsilver@umich.edu Fri Jan  4 11:12:37 2008\n",
      "\n",
      "['gsilver@umich.edu']\n",
      "From gsilver@umich.edu Fri Jan  4 11:11:52 2008\n",
      "\n",
      "['zqian@umich.edu']\n",
      "From zqian@umich.edu Fri Jan  4 11:11:03 2008\n",
      "\n",
      "['gsilver@umich.edu']\n",
      "From gsilver@umich.edu Fri Jan  4 11:10:22 2008\n",
      "\n",
      "['wagnermr@iupui.edu']\n",
      "From wagnermr@iupui.edu Fri Jan  4 10:38:42 2008\n",
      "\n",
      "['zqian@umich.edu']\n",
      "From zqian@umich.edu Fri Jan  4 10:17:43 2008\n",
      "\n",
      "['antranig@caret.cam.ac.uk']\n",
      "From antranig@caret.cam.ac.uk Fri Jan  4 10:04:14 2008\n",
      "\n",
      "['gopal.ramasammycook@gmail.com']\n",
      "From gopal.ramasammycook@gmail.com Fri Jan  4 09:05:31 2008\n",
      "\n",
      "['david.horwitz@uct.ac.za']\n",
      "From david.horwitz@uct.ac.za Fri Jan  4 07:02:32 2008\n",
      "\n",
      "['david.horwitz@uct.ac.za']\n",
      "From david.horwitz@uct.ac.za Fri Jan  4 06:08:27 2008\n",
      "\n",
      "['david.horwitz@uct.ac.za']\n",
      "From david.horwitz@uct.ac.za Fri Jan  4 04:49:08 2008\n",
      "\n",
      "['david.horwitz@uct.ac.za']\n",
      "From david.horwitz@uct.ac.za Fri Jan  4 04:33:44 2008\n",
      "\n",
      "['stephen.marquard@uct.ac.za']\n",
      "From stephen.marquard@uct.ac.za Fri Jan  4 04:07:34 2008\n",
      "\n",
      "['louis@media.berkeley.edu']\n",
      "From louis@media.berkeley.edu Thu Jan  3 19:51:21 2008\n",
      "\n",
      "['louis@media.berkeley.edu']\n",
      "From louis@media.berkeley.edu Thu Jan  3 17:18:23 2008\n",
      "\n",
      "['ray@media.berkeley.edu']\n",
      "From ray@media.berkeley.edu Thu Jan  3 17:07:00 2008\n",
      "\n",
      "['cwen@iupui.edu']\n",
      "From cwen@iupui.edu Thu Jan  3 16:34:40 2008\n",
      "\n",
      "['cwen@iupui.edu']\n",
      "From cwen@iupui.edu Thu Jan  3 16:29:07 2008\n",
      "\n",
      "['cwen@iupui.edu']\n",
      "From cwen@iupui.edu Thu Jan  3 16:23:48 2008\n",
      "\n"
     ]
    }
   ],
   "source": [
    "hand=open('mbox-short.txt')\n",
    "#txt=hand.read()\n",
    "for i in hand:\n",
    "    z=re.findall('^From (\\S+@\\S+)',i)\n",
    "    if len(z)>0:\n",
    "        print z\n",
    "        print i\n"
   ]
  },
  {
   "cell_type": "markdown",
   "metadata": {},
   "source": [
    " ##Domain extraction\n",
    " "
   ]
  },
  {
   "cell_type": "code",
   "execution_count": 59,
   "metadata": {
    "collapsed": false
   },
   "outputs": [
    {
     "name": "stdout",
     "output_type": "stream",
     "text": [
      "21\n",
      "31\n",
      "uct.ac.za\n"
     ]
    }
   ],
   "source": [
    "data='From stephen.marquard@uct.ac.za Sat Jan  5 09:14:16 2008'\n",
    "atpos=data.find('@')\n",
    "print atpos\n",
    "sppos=data.find(' ',atpos)\n",
    "print sppos\n",
    "host=data[atpos+1:sppos]\n",
    "print host"
   ]
  },
  {
   "cell_type": "code",
   "execution_count": 73,
   "metadata": {
    "collapsed": false
   },
   "outputs": [
    {
     "name": "stdout",
     "output_type": "stream",
     "text": [
      "uct.ac.za\n",
      "uct.ac.za\n",
      "['uct.ac.za', 'uct.ac.zz']\n",
      "caret.cam.ac.uk\n",
      "gmail.com\n",
      "iupui.edu\n",
      "media.berkeley.edu\n",
      "uct.ac.za\n",
      "umich.edu\n"
     ]
    }
   ],
   "source": [
    "hand=open('mbox-short.txt')\n",
    "data='From stephen.marquard@uct.ac.za Sat Jan  5 09:14:16 2008 From stephen.marquard@uct.ac.zz Sat Jan  5 09:14:16 2008'\n",
    "#just a one-liner\n",
    "print data[data.find('@')+1:data.find(' ', data.find('@'))]\n",
    "#double split pattern :)\n",
    "print data.split()[1].split('@')[1]\n",
    "#let's do a regex\n",
    "print re.findall('@([^ ]+)',data)\n",
    "#let's collect unique domains\n",
    "domains_list=[]\n",
    "for i in hand:\n",
    "    domains=re.findall('^From.*\\S+@([^> ]+)',i)\n",
    "    #if re.search('david-horwitz-6',i):\n",
    "    #    print i\n",
    "    for domain in domains:\n",
    "        if domain.strip() not in domains_list:\n",
    "            domains_list.append(domain.strip())\n",
    "for i in sorted(domains_list):\n",
    "    print i"
   ]
  },
  {
   "cell_type": "markdown",
   "metadata": {},
   "source": [
    "##Spam Confidence Extraction\n",
    "and plus playing a bit with re.finditer()\n",
    "\n",
    "<http://code.runnable.com/UqV9JYh03AFGAACS/how-to-use-findall-finditer-split-sub-and-subn-in-regular-expressions-in-python-for-regex>"
   ]
  },
  {
   "cell_type": "code",
   "execution_count": 108,
   "metadata": {
    "collapsed": false
   },
   "outputs": [
    {
     "name": "stdout",
     "output_type": "stream",
     "text": [
      "Maximum: 0.9907 27\n",
      "27\n",
      "27\n",
      "['0.9907']\n"
     ]
    }
   ],
   "source": [
    "hand=open('mbox-short.txt')\n",
    "numlist=list()\n",
    "spams=list()\n",
    "iterList=[]\n",
    "for line in hand:\n",
    "    line=line.rstrip()\n",
    "    stuff=re.findall('^X-DSPAM-Confidence: ([0-9.]+)',line)\n",
    "    if len(stuff) !=1 :continue\n",
    "    num=float(stuff[0])\n",
    "    numlist.append(num)\n",
    "    iterator=re.finditer('^X-DSPAM-Confidence: ([0-9.]+)',line)\n",
    "    iterList.append(iterator)\n",
    "print \"Maximum:\", max(numlist), len(numlist)\n",
    "print len(iterList)\n",
    "for i in iterList:\n",
    "    for match in i:\n",
    "        k=re.findall('[0-9.]+', match.group())\n",
    "        if k>0:\n",
    "            spams.append(k)\n",
    "print len(spams)\n",
    "print max(spams)\n",
    "            \n"
   ]
  },
  {
   "cell_type": "markdown",
   "metadata": {},
   "source": [
    "#Quizzes and assignment"
   ]
  },
  {
   "cell_type": "code",
   "execution_count": 114,
   "metadata": {
    "collapsed": false
   },
   "outputs": [
    {
     "name": "stdout",
     "output_type": "stream",
     "text": [
      "409114\n",
      "409114\n"
     ]
    }
   ],
   "source": [
    "training=open('regex_sum_42.txt')\n",
    "actual=open('regex_sum_189018.txt')\n",
    "txt=actual.read()\n",
    "iterator=re.finditer('[0-9]+',txt)\n",
    "summs=re.findall('[0-9]+',txt)\n",
    "print sum([int(item) for item in summs])\n",
    "print sum([int(i.group()) for i in iterator])"
   ]
  },
  {
   "cell_type": "code",
   "execution_count": null,
   "metadata": {
    "collapsed": true
   },
   "outputs": [],
   "source": []
  }
 ],
 "metadata": {
  "kernelspec": {
   "display_name": "Python 2",
   "language": "python",
   "name": "python2"
  },
  "language_info": {
   "codemirror_mode": {
    "name": "ipython",
    "version": 2
   },
   "file_extension": ".py",
   "mimetype": "text/x-python",
   "name": "python",
   "nbconvert_exporter": "python",
   "pygments_lexer": "ipython2",
   "version": "2.7.10"
  }
 },
 "nbformat": 4,
 "nbformat_minor": 0
}
